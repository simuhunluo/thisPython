{
 "cells": [
  {
   "cell_type": "code",
   "execution_count": 8,
   "metadata": {
    "collapsed": true
   },
   "outputs": [
    {
     "name": "stdout",
     "output_type": "stream",
     "text": [
      "Checking whether there is an H2O instance running at http://localhost:54321"
     ]
    },
    {
     "name": "stdout",
     "output_type": "stream",
     "text": [
      "."
     ]
    },
    {
     "name": "stdout",
     "output_type": "stream",
     "text": [
      " connected."
     ]
    },
    {
     "name": "stdout",
     "output_type": "stream",
     "text": [
      "\n"
     ]
    },
    {
     "name": "stdout",
     "output_type": "stream",
     "text": [
      "Warning: Your H2O cluster version is too old (6 months and 6 days)! Please download and install the latest version from http://h2o.ai/download/"
     ]
    },
    {
     "name": "stdout",
     "output_type": "stream",
     "text": [
      "\n"
     ]
    },
    {
     "data": {
      "text/html": [
       "<div style=\"overflow:auto\"><table style=\"width:50%\"><tr><td>H2O cluster uptime:</td>\n",
       "<td>43 mins 05 secs</td></tr>\n",
       "<tr><td>H2O cluster version:</td>\n",
       "<td>3.10.4.8</td></tr>\n",
       "<tr><td>H2O cluster version age:</td>\n",
       "<td>6 months and 6 days !!!</td></tr>\n",
       "<tr><td>H2O cluster name:</td>\n",
       "<td>H2O_from_python________f7wm1t</td></tr>\n",
       "<tr><td>H2O cluster total nodes:</td>\n",
       "<td>1</td></tr>\n",
       "<tr><td>H2O cluster free memory:</td>\n",
       "<td>6.775 Gb</td></tr>\n",
       "<tr><td>H2O cluster total cores:</td>\n",
       "<td>8</td></tr>\n",
       "<tr><td>H2O cluster allowed cores:</td>\n",
       "<td>8</td></tr>\n",
       "<tr><td>H2O cluster status:</td>\n",
       "<td>locked, healthy</td></tr>\n",
       "<tr><td>H2O connection url:</td>\n",
       "<td>http://localhost:54321</td></tr>\n",
       "<tr><td>H2O connection proxy:</td>\n",
       "<td>None</td></tr>\n",
       "<tr><td>H2O internal security:</td>\n",
       "<td>False</td></tr>\n",
       "<tr><td>Python version:</td>\n",
       "<td>2.7.11 final</td></tr></table></div>"
      ],
      "text/plain": [
       "<div style=\"overflow:auto\"><table style=\"width:50%\"><tr><td>H2O cluster uptime:</td>\n",
       "<td>43 mins 05 secs</td></tr>\n",
       "<tr><td>H2O cluster version:</td>\n",
       "<td>3.10.4.8</td></tr>\n",
       "<tr><td>H2O cluster version age:</td>\n",
       "<td>6 months and 6 days !!!</td></tr>\n",
       "<tr><td>H2O cluster name:</td>\n",
       "<td>H2O_from_python________f7wm1t</td></tr>\n",
       "<tr><td>H2O cluster total nodes:</td>\n",
       "<td>1</td></tr>\n",
       "<tr><td>H2O cluster free memory:</td>\n",
       "<td>6.775 Gb</td></tr>\n",
       "<tr><td>H2O cluster total cores:</td>\n",
       "<td>8</td></tr>\n",
       "<tr><td>H2O cluster allowed cores:</td>\n",
       "<td>8</td></tr>\n",
       "<tr><td>H2O cluster status:</td>\n",
       "<td>locked, healthy</td></tr>\n",
       "<tr><td>H2O connection url:</td>\n",
       "<td>http://localhost:54321</td></tr>\n",
       "<tr><td>H2O connection proxy:</td>\n",
       "<td>None</td></tr>\n",
       "<tr><td>H2O internal security:</td>\n",
       "<td>False</td></tr>\n",
       "<tr><td>Python version:</td>\n",
       "<td>2.7.11 final</td></tr></table></div>"
      ]
     },
     "execution_count": 0,
     "metadata": {},
     "output_type": "execute_result"
    }
   ],
   "source": [
    "#-*-encoding=utf-8-*-\n",
    "import pandas as pd\n",
    "import numpy as np\n",
    "import matplotlib.pyplot as plt\n",
    "import h2o\n",
    "from h2o.estimators.random_forest import H2ORandomForestEstimator\n",
    "\n",
    "h2o.init()\n"
   ]
  },
  {
   "cell_type": "code",
   "execution_count": 7,
   "metadata": {},
   "outputs": [
    {
     "name": "stdout",
     "output_type": "stream",
     "text": [
      "Parse progress: |"
     ]
    },
    {
     "name": "stdout",
     "output_type": "stream",
     "text": [
      "█████████████████████████████████████████████████████████| 100%"
     ]
    },
    {
     "name": "stdout",
     "output_type": "stream",
     "text": [
      "\n"
     ]
    },
    {
     "name": "stdout",
     "output_type": "stream",
     "text": [
      "Parse progress: |"
     ]
    },
    {
     "name": "stdout",
     "output_type": "stream",
     "text": [
      "█████████████████████████████████████████████████████████| 100%"
     ]
    },
    {
     "name": "stdout",
     "output_type": "stream",
     "text": [
      "\n"
     ]
    }
   ],
   "source": [
    "# trainData = pd.read_csv(\"C:\\Users\\scc\\PycharmProjects\\untitled1\\datadig3\\\\train.csv\")\n",
    "# testData = pd.read_csv(\"C:\\Users\\scc\\PycharmProjects\\untitled1\\datadig3\\\\test.csv\")\n",
    "\n",
    "trainData = h2o.import_file(\"C:\\Users\\scc\\PycharmProjects\\untitled1\\datadig3\\\\train.csv\")\n",
    "testData = h2o.import_file(\"C:\\Users\\scc\\PycharmProjects\\untitled1\\datadig3\\\\test.csv\")\n"
   ]
  },
  {
   "cell_type": "code",
   "execution_count": 9,
   "metadata": {},
   "outputs": [
    {
     "name": "stdout",
     "output_type": "stream",
     "text": [
      "drf Model Build progress: |"
     ]
    },
    {
     "name": "stdout",
     "output_type": "stream",
     "text": [
      "███████████████████████████████████████████████| 100%"
     ]
    },
    {
     "name": "stdout",
     "output_type": "stream",
     "text": [
      "\n"
     ]
    }
   ],
   "source": [
    "realTrainData=trainData[2:18]#不选取第1、2和最后一列\n",
    "model = H2ORandomForestEstimator(ntrees=50, max_depth=20)\n",
    "model.train(x=realTrainData.names,y='Catrgory',training_frame=trainData)"
   ]
  },
  {
   "cell_type": "code",
   "execution_count": 11,
   "metadata": {},
   "outputs": [
    {
     "name": "stdout",
     "output_type": "stream",
     "text": [
      "drf prediction progress: |"
     ]
    },
    {
     "name": "stdout",
     "output_type": "stream",
     "text": [
      "████████████████████████████████████████████████| 100%"
     ]
    },
    {
     "name": "stdout",
     "output_type": "stream",
     "text": [
      "\n"
     ]
    }
   ],
   "source": [
    "pre_tag = H2ORandomForestEstimator.predict(model, testData)\n"
   ]
  },
  {
   "cell_type": "code",
   "execution_count": 13,
   "metadata": {},
   "outputs": [
    {
     "data": {
      "text/html": [
       "<table>\n",
       "<thead>\n",
       "<tr><th>predict  </th><th style=\"text-align: right;\">  cluster0</th><th style=\"text-align: right;\">  cluster1</th><th style=\"text-align: right;\">  cluster2</th></tr>\n",
       "</thead>\n",
       "<tbody>\n",
       "<tr><td>cluster2 </td><td style=\"text-align: right;\"> 0.02     </td><td style=\"text-align: right;\"> 0        </td><td style=\"text-align: right;\"> 0.98     </td></tr>\n",
       "<tr><td>cluster2 </td><td style=\"text-align: right;\"> 0.04     </td><td style=\"text-align: right;\"> 0        </td><td style=\"text-align: right;\"> 0.96     </td></tr>\n",
       "<tr><td>cluster2 </td><td style=\"text-align: right;\"> 0.0196078</td><td style=\"text-align: right;\"> 0        </td><td style=\"text-align: right;\"> 0.980392 </td></tr>\n",
       "<tr><td>cluster2 </td><td style=\"text-align: right;\"> 0        </td><td style=\"text-align: right;\"> 0.0566038</td><td style=\"text-align: right;\"> 0.943396 </td></tr>\n",
       "<tr><td>cluster1 </td><td style=\"text-align: right;\"> 0        </td><td style=\"text-align: right;\"> 1        </td><td style=\"text-align: right;\"> 0        </td></tr>\n",
       "<tr><td>cluster2 </td><td style=\"text-align: right;\"> 0        </td><td style=\"text-align: right;\"> 0        </td><td style=\"text-align: right;\"> 1        </td></tr>\n",
       "<tr><td>cluster0 </td><td style=\"text-align: right;\"> 0.961538 </td><td style=\"text-align: right;\"> 0.0192308</td><td style=\"text-align: right;\"> 0.0192308</td></tr>\n",
       "<tr><td>cluster1 </td><td style=\"text-align: right;\"> 0        </td><td style=\"text-align: right;\"> 0.895833 </td><td style=\"text-align: right;\"> 0.104167 </td></tr>\n",
       "<tr><td>cluster2 </td><td style=\"text-align: right;\"> 0        </td><td style=\"text-align: right;\"> 0.2      </td><td style=\"text-align: right;\"> 0.8      </td></tr>\n",
       "<tr><td>cluster1 </td><td style=\"text-align: right;\"> 0        </td><td style=\"text-align: right;\"> 0.903846 </td><td style=\"text-align: right;\"> 0.0961538</td></tr>\n",
       "</tbody>\n",
       "</table>"
      ],
      "text/plain": [
       "<table>\n",
       "<thead>\n",
       "<tr><th>predict  </th><th style=\"text-align: right;\">  cluster0</th><th style=\"text-align: right;\">  cluster1</th><th style=\"text-align: right;\">  cluster2</th></tr>\n",
       "</thead>\n",
       "<tbody>\n",
       "<tr><td>cluster2 </td><td style=\"text-align: right;\"> 0.02     </td><td style=\"text-align: right;\"> 0        </td><td style=\"text-align: right;\"> 0.98     </td></tr>\n",
       "<tr><td>cluster2 </td><td style=\"text-align: right;\"> 0.04     </td><td style=\"text-align: right;\"> 0        </td><td style=\"text-align: right;\"> 0.96     </td></tr>\n",
       "<tr><td>cluster2 </td><td style=\"text-align: right;\"> 0.0196078</td><td style=\"text-align: right;\"> 0        </td><td style=\"text-align: right;\"> 0.980392 </td></tr>\n",
       "<tr><td>cluster2 </td><td style=\"text-align: right;\"> 0        </td><td style=\"text-align: right;\"> 0.0566038</td><td style=\"text-align: right;\"> 0.943396 </td></tr>\n",
       "<tr><td>cluster1 </td><td style=\"text-align: right;\"> 0        </td><td style=\"text-align: right;\"> 1        </td><td style=\"text-align: right;\"> 0        </td></tr>\n",
       "<tr><td>cluster2 </td><td style=\"text-align: right;\"> 0        </td><td style=\"text-align: right;\"> 0        </td><td style=\"text-align: right;\"> 1        </td></tr>\n",
       "<tr><td>cluster0 </td><td style=\"text-align: right;\"> 0.961538 </td><td style=\"text-align: right;\"> 0.0192308</td><td style=\"text-align: right;\"> 0.0192308</td></tr>\n",
       "<tr><td>cluster1 </td><td style=\"text-align: right;\"> 0        </td><td style=\"text-align: right;\"> 0.895833 </td><td style=\"text-align: right;\"> 0.104167 </td></tr>\n",
       "<tr><td>cluster2 </td><td style=\"text-align: right;\"> 0        </td><td style=\"text-align: right;\"> 0.2      </td><td style=\"text-align: right;\"> 0.8      </td></tr>\n",
       "<tr><td>cluster1 </td><td style=\"text-align: right;\"> 0        </td><td style=\"text-align: right;\"> 0.903846 </td><td style=\"text-align: right;\"> 0.0961538</td></tr>\n",
       "</tbody>\n",
       "</table>"
      ]
     },
     "execution_count": 0,
     "metadata": {},
     "output_type": "execute_result"
    },
    {
     "data": {
      "text/plain": [
       ""
      ]
     },
     "execution_count": 13,
     "metadata": {},
     "output_type": "execute_result"
    }
   ],
   "source": [
    "pre_tag.head()"
   ]
  },
  {
   "cell_type": "code",
   "execution_count": 17,
   "metadata": {
    "collapsed": true
   },
   "outputs": [
    {
     "data": {
      "text/html": [
       "<table>\n",
       "<thead>\n",
       "<tr><th>predict  </th><th style=\"text-align: right;\">  cluster0</th><th style=\"text-align: right;\">  cluster1</th><th style=\"text-align: right;\">  cluster2</th><th style=\"text-align: right;\">     driver</th><th style=\"text-align: right;\">  trip</th><th style=\"text-align: right;\">  Average_speed</th><th style=\"text-align: right;\">  Average_ABS_Acceleration</th><th style=\"text-align: right;\">  Average_RPM</th><th style=\"text-align: right;\">  Variance_speed</th></tr>\n",
       "</thead>\n",
       "<tbody>\n",
       "<tr><td>cluster2 </td><td style=\"text-align: right;\"> 0.02     </td><td style=\"text-align: right;\"> 0        </td><td style=\"text-align: right;\"> 0.98     </td><td style=\"text-align: right;\">4.10304e+10</td><td style=\"text-align: right;\">     1</td><td style=\"text-align: right;\">              6</td><td style=\"text-align: right;\">                  0.218219</td><td style=\"text-align: right;\">      1209.08</td><td style=\"text-align: right;\">         33.4659</td></tr>\n",
       "<tr><td>cluster2 </td><td style=\"text-align: right;\"> 0.04     </td><td style=\"text-align: right;\"> 0        </td><td style=\"text-align: right;\"> 0.96     </td><td style=\"text-align: right;\">4.10304e+10</td><td style=\"text-align: right;\">     2</td><td style=\"text-align: right;\">              3</td><td style=\"text-align: right;\">                  0.305416</td><td style=\"text-align: right;\">      1064.18</td><td style=\"text-align: right;\">         24.5744</td></tr>\n",
       "<tr><td>cluster2 </td><td style=\"text-align: right;\"> 0.0196078</td><td style=\"text-align: right;\"> 0        </td><td style=\"text-align: right;\"> 0.980392 </td><td style=\"text-align: right;\">4.10304e+10</td><td style=\"text-align: right;\">     3</td><td style=\"text-align: right;\">              5</td><td style=\"text-align: right;\">                  0.121377</td><td style=\"text-align: right;\">      1168.5 </td><td style=\"text-align: right;\">         24.3105</td></tr>\n",
       "<tr><td>cluster2 </td><td style=\"text-align: right;\"> 0        </td><td style=\"text-align: right;\"> 0.0566038</td><td style=\"text-align: right;\"> 0.943396 </td><td style=\"text-align: right;\">4.10304e+10</td><td style=\"text-align: right;\">     4</td><td style=\"text-align: right;\">              7</td><td style=\"text-align: right;\">                  0.185244</td><td style=\"text-align: right;\">      1175.39</td><td style=\"text-align: right;\">         41.511 </td></tr>\n",
       "<tr><td>cluster1 </td><td style=\"text-align: right;\"> 0        </td><td style=\"text-align: right;\"> 1        </td><td style=\"text-align: right;\"> 0        </td><td style=\"text-align: right;\">4.10304e+10</td><td style=\"text-align: right;\">     5</td><td style=\"text-align: right;\">              9</td><td style=\"text-align: right;\">                  0.255851</td><td style=\"text-align: right;\">      1311.18</td><td style=\"text-align: right;\">         53.3696</td></tr>\n",
       "<tr><td>cluster2 </td><td style=\"text-align: right;\"> 0        </td><td style=\"text-align: right;\"> 0        </td><td style=\"text-align: right;\"> 1        </td><td style=\"text-align: right;\">4.10304e+10</td><td style=\"text-align: right;\">     6</td><td style=\"text-align: right;\">              5</td><td style=\"text-align: right;\">                  0.137464</td><td style=\"text-align: right;\">      1213.27</td><td style=\"text-align: right;\">         24.9554</td></tr>\n",
       "<tr><td>cluster0 </td><td style=\"text-align: right;\"> 0.961538 </td><td style=\"text-align: right;\"> 0.0192308</td><td style=\"text-align: right;\"> 0.0192308</td><td style=\"text-align: right;\">4.10304e+10</td><td style=\"text-align: right;\">     7</td><td style=\"text-align: right;\">              5</td><td style=\"text-align: right;\">                  0.633611</td><td style=\"text-align: right;\">      1321.14</td><td style=\"text-align: right;\">         24.5738</td></tr>\n",
       "<tr><td>cluster1 </td><td style=\"text-align: right;\"> 0        </td><td style=\"text-align: right;\"> 0.895833 </td><td style=\"text-align: right;\"> 0.104167 </td><td style=\"text-align: right;\">4.10304e+10</td><td style=\"text-align: right;\">     8</td><td style=\"text-align: right;\">             11</td><td style=\"text-align: right;\">                  1.22222 </td><td style=\"text-align: right;\">      1197   </td><td style=\"text-align: right;\">          7.4267</td></tr>\n",
       "<tr><td>cluster2 </td><td style=\"text-align: right;\"> 0        </td><td style=\"text-align: right;\"> 0.2      </td><td style=\"text-align: right;\"> 0.8      </td><td style=\"text-align: right;\">4.10304e+10</td><td style=\"text-align: right;\">     9</td><td style=\"text-align: right;\">              6</td><td style=\"text-align: right;\">                  0.287497</td><td style=\"text-align: right;\">      1219.42</td><td style=\"text-align: right;\">         50.7958</td></tr>\n",
       "<tr><td>cluster1 </td><td style=\"text-align: right;\"> 0        </td><td style=\"text-align: right;\"> 0.903846 </td><td style=\"text-align: right;\"> 0.0961538</td><td style=\"text-align: right;\">4.10304e+10</td><td style=\"text-align: right;\">    10</td><td style=\"text-align: right;\">              8</td><td style=\"text-align: right;\">                  0.119475</td><td style=\"text-align: right;\">      1230.39</td><td style=\"text-align: right;\">         52.9055</td></tr>\n",
       "</tbody>\n",
       "</table>"
      ],
      "text/plain": [
       "<table>\n",
       "<thead>\n",
       "<tr><th>predict  </th><th style=\"text-align: right;\">  cluster0</th><th style=\"text-align: right;\">  cluster1</th><th style=\"text-align: right;\">  cluster2</th><th style=\"text-align: right;\">     driver</th><th style=\"text-align: right;\">  trip</th><th style=\"text-align: right;\">  Average_speed</th><th style=\"text-align: right;\">  Average_ABS_Acceleration</th><th style=\"text-align: right;\">  Average_RPM</th><th style=\"text-align: right;\">  Variance_speed</th></tr>\n",
       "</thead>\n",
       "<tbody>\n",
       "<tr><td>cluster2 </td><td style=\"text-align: right;\"> 0.02     </td><td style=\"text-align: right;\"> 0        </td><td style=\"text-align: right;\"> 0.98     </td><td style=\"text-align: right;\">4.10304e+10</td><td style=\"text-align: right;\">     1</td><td style=\"text-align: right;\">              6</td><td style=\"text-align: right;\">                  0.218219</td><td style=\"text-align: right;\">      1209.08</td><td style=\"text-align: right;\">         33.4659</td></tr>\n",
       "<tr><td>cluster2 </td><td style=\"text-align: right;\"> 0.04     </td><td style=\"text-align: right;\"> 0        </td><td style=\"text-align: right;\"> 0.96     </td><td style=\"text-align: right;\">4.10304e+10</td><td style=\"text-align: right;\">     2</td><td style=\"text-align: right;\">              3</td><td style=\"text-align: right;\">                  0.305416</td><td style=\"text-align: right;\">      1064.18</td><td style=\"text-align: right;\">         24.5744</td></tr>\n",
       "<tr><td>cluster2 </td><td style=\"text-align: right;\"> 0.0196078</td><td style=\"text-align: right;\"> 0        </td><td style=\"text-align: right;\"> 0.980392 </td><td style=\"text-align: right;\">4.10304e+10</td><td style=\"text-align: right;\">     3</td><td style=\"text-align: right;\">              5</td><td style=\"text-align: right;\">                  0.121377</td><td style=\"text-align: right;\">      1168.5 </td><td style=\"text-align: right;\">         24.3105</td></tr>\n",
       "<tr><td>cluster2 </td><td style=\"text-align: right;\"> 0        </td><td style=\"text-align: right;\"> 0.0566038</td><td style=\"text-align: right;\"> 0.943396 </td><td style=\"text-align: right;\">4.10304e+10</td><td style=\"text-align: right;\">     4</td><td style=\"text-align: right;\">              7</td><td style=\"text-align: right;\">                  0.185244</td><td style=\"text-align: right;\">      1175.39</td><td style=\"text-align: right;\">         41.511 </td></tr>\n",
       "<tr><td>cluster1 </td><td style=\"text-align: right;\"> 0        </td><td style=\"text-align: right;\"> 1        </td><td style=\"text-align: right;\"> 0        </td><td style=\"text-align: right;\">4.10304e+10</td><td style=\"text-align: right;\">     5</td><td style=\"text-align: right;\">              9</td><td style=\"text-align: right;\">                  0.255851</td><td style=\"text-align: right;\">      1311.18</td><td style=\"text-align: right;\">         53.3696</td></tr>\n",
       "<tr><td>cluster2 </td><td style=\"text-align: right;\"> 0        </td><td style=\"text-align: right;\"> 0        </td><td style=\"text-align: right;\"> 1        </td><td style=\"text-align: right;\">4.10304e+10</td><td style=\"text-align: right;\">     6</td><td style=\"text-align: right;\">              5</td><td style=\"text-align: right;\">                  0.137464</td><td style=\"text-align: right;\">      1213.27</td><td style=\"text-align: right;\">         24.9554</td></tr>\n",
       "<tr><td>cluster0 </td><td style=\"text-align: right;\"> 0.961538 </td><td style=\"text-align: right;\"> 0.0192308</td><td style=\"text-align: right;\"> 0.0192308</td><td style=\"text-align: right;\">4.10304e+10</td><td style=\"text-align: right;\">     7</td><td style=\"text-align: right;\">              5</td><td style=\"text-align: right;\">                  0.633611</td><td style=\"text-align: right;\">      1321.14</td><td style=\"text-align: right;\">         24.5738</td></tr>\n",
       "<tr><td>cluster1 </td><td style=\"text-align: right;\"> 0        </td><td style=\"text-align: right;\"> 0.895833 </td><td style=\"text-align: right;\"> 0.104167 </td><td style=\"text-align: right;\">4.10304e+10</td><td style=\"text-align: right;\">     8</td><td style=\"text-align: right;\">             11</td><td style=\"text-align: right;\">                  1.22222 </td><td style=\"text-align: right;\">      1197   </td><td style=\"text-align: right;\">          7.4267</td></tr>\n",
       "<tr><td>cluster2 </td><td style=\"text-align: right;\"> 0        </td><td style=\"text-align: right;\"> 0.2      </td><td style=\"text-align: right;\"> 0.8      </td><td style=\"text-align: right;\">4.10304e+10</td><td style=\"text-align: right;\">     9</td><td style=\"text-align: right;\">              6</td><td style=\"text-align: right;\">                  0.287497</td><td style=\"text-align: right;\">      1219.42</td><td style=\"text-align: right;\">         50.7958</td></tr>\n",
       "<tr><td>cluster1 </td><td style=\"text-align: right;\"> 0        </td><td style=\"text-align: right;\"> 0.903846 </td><td style=\"text-align: right;\"> 0.0961538</td><td style=\"text-align: right;\">4.10304e+10</td><td style=\"text-align: right;\">    10</td><td style=\"text-align: right;\">              8</td><td style=\"text-align: right;\">                  0.119475</td><td style=\"text-align: right;\">      1230.39</td><td style=\"text-align: right;\">         52.9055</td></tr>\n",
       "</tbody>\n",
       "</table>"
      ]
     },
     "execution_count": 0,
     "metadata": {},
     "output_type": "execute_result"
    },
    {
     "data": {
      "text/plain": [
       ""
      ]
     },
     "execution_count": 17,
     "metadata": {},
     "output_type": "execute_result"
    }
   ],
   "source": [
    "#合并预测集合与测试集合\n",
    "pre_and_test=pre_tag.cbind(testData)\n",
    "pre_and_test[0:10].head()"
   ]
  },
  {
   "cell_type": "code",
   "execution_count": 24,
   "metadata": {},
   "outputs": [
    {
     "name": "stdout",
     "output_type": "stream",
     "text": [
      "0.866666666667"
     ]
    },
    {
     "name": "stdout",
     "output_type": "stream",
     "text": [
      "\n"
     ]
    }
   ],
   "source": [
    "#计算准确率\n",
    "n = pre_and_test.nrow\n",
    "target_n = pre_and_test[pre_and_test['predict'] == pre_and_test['Catrgory'], :].nrow\n",
    "accuracy = float(target_n) / float(n)\n",
    "print accuracy\n"
   ]
  },
  {
   "cell_type": "code",
   "execution_count": null,
   "metadata": {},
   "outputs": [],
   "source": []
  }
 ],
 "metadata": {
  "kernelspec": {
   "display_name": "Python 2",
   "language": "python",
   "name": "python2"
  },
  "language_info": {
   "codemirror_mode": {
    "name": "ipython",
    "version": 2
   },
   "file_extension": ".py",
   "mimetype": "text/x-python",
   "name": "python",
   "nbconvert_exporter": "python",
   "pygments_lexer": "ipython2",
   "version": "2.7.6"
  }
 },
 "nbformat": 4,
 "nbformat_minor": 0
}
