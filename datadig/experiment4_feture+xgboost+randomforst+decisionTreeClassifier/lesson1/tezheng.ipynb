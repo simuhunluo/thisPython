{
 "cells": [
  {
   "cell_type": "code",
   "execution_count": 1,
   "metadata": {
    "collapsed": true
   },
   "outputs": [],
   "source": [
    "# -*-encoding=utf-8-*-\n",
    "import matplotlib.pyplot as plt\n",
    "import pandas as pd\n",
    "import numpy as np\n"
   ]
  },
  {
   "cell_type": "code",
   "execution_count": 2,
   "metadata": {},
   "outputs": [],
   "source": [
    "# itemdata=pd.read_csv(\"C:\\Users\\scc\\PycharmProjects\\untitled1\\datadig2\\\\tianchi_fresh_comp_train_item.csv\")\n",
    "# userdata=pd.read_csv(\"C:\\Users\\scc\\PycharmProjects\\untitled1\\datadig2\\\\new_train_user.csv\")\n",
    "itemdata=pd.read_csv(\"D:\\DAUM\\\\tianchi_fresh_comp_train_item.csv\")\n",
    "userdata=pd.read_csv(\"D:\\DAUM\\\\new_train_user.csv\")"
   ]
  },
  {
   "cell_type": "code",
   "execution_count": 3,
   "metadata": {},
   "outputs": [
    {
     "name": "stdout",
     "output_type": "stream",
     "text": [
      "(422858, 3)\n"
     ]
    }
   ],
   "source": [
    "#取出唯一的商品ID和类别\n",
    "itemdata_id_category=itemdata.drop_duplicates(['item_id','item_category'])\n",
    "print itemdata_id_category.shape"
   ]
  },
  {
   "cell_type": "code",
   "execution_count": 4,
   "metadata": {},
   "outputs": [
    {
     "name": "stdout",
     "output_type": "stream",
     "text": [
      "(2084859, 7)\n"
     ]
    }
   ],
   "source": [
    "#取出有交互的商品数目\n",
    "sub=pd.merge(itemdata_id_category,userdata,how='inner',on=['item_id','item_category'])\n",
    "print sub.shape\n"
   ]
  },
  {
   "cell_type": "code",
   "execution_count": 5,
   "metadata": {},
   "outputs": [
    {
     "name": "stdout",
     "output_type": "stream",
     "text": [
      "['item_id', 'item_geohash', 'item_category', 'user_id', 'behavior_type', 'date', 'hour']\n"
     ]
    },
    {
     "name": "stdout",
     "output_type": "stream",
     "text": [
      "     user_id    item_id  item_category  behavior_type        date  hour\n0   20723532  100002303           3368              1  2014-11-22    18\n1   20723532  100002303           3368              1  2014-11-22    18\n2   20723532  100002303           3368              1  2014-11-22    18\n3   44416664  100002303           3368              1  2014-12-16    15\n4   44416664  100002303           3368              1  2014-12-16    15\n5  142281897  100002303           3368              1  2014-12-02    23\n6  109084811  100003592           7995              1  2014-11-24    18\n7  134325108  100006838          12630              1  2014-11-19    21\n8    5015420  100008089           7791              1  2014-12-09    20\n9  135142209  100012750           9614              1  2014-11-22    23\n"
     ]
    }
   ],
   "source": [
    "# print sub.head(10)\n",
    "cols = list(sub)\n",
    "print cols\n",
    "cols=['user_id', 'item_id', 'item_geohash', 'item_category', 'behavior_type', 'date', 'hour']\n",
    "df = sub.ix[:, cols]\n",
    "del df['item_geohash']\n",
    "print df.head(10)"
   ]
  },
  {
   "cell_type": "code",
   "execution_count": 6,
   "metadata": {},
   "outputs": [
    {
     "name": "stdout",
     "output_type": "stream",
     "text": [
      "(808, 6)\n         user_id    item_id  item_category  behavior_type        date  hour\n165     47184224  100079162           4778              3  2014-12-16    18\n186    114582878  100079162           4778              3  2014-12-16    22\n881     39717215  100479772           4282              3  2014-12-16    20\n4170    64559982  102385587          11991              3  2014-12-16    20\n6248    64500498  103784652           7467              3  2014-12-16    20\n21010  119838957  111296625          10431              3  2014-12-16    23\n21795  105315608  111663276           3064              3  2014-12-16    22\n26552   44299667  113997292           4830              3  2014-12-16    18\n28461   64509513   11488409           4172              3  2014-12-16    23\n40551   24979429  121067339           7850              3  2014-12-16    21\n"
     ]
    }
   ],
   "source": [
    "#选取16号作为特征数据\n",
    "feature_date = '2014-12-16'\n",
    "df3 = df[(df.date == feature_date) & (df.behavior_type == 3) & (df.hour >= 18)]\n",
    "print df3.shape\n",
    "print df3.head(10)\n"
   ]
  },
  {
   "cell_type": "code",
   "execution_count": 7,
   "metadata": {},
   "outputs": [
    {
     "name": "stdout",
     "output_type": "stream",
     "text": [
      "(292, 6)\n          user_id    item_id  item_category  behavior_type        date  hour\n5726    111068056   10332364          12553              4  2014-12-16    18\n32347    39717215  116855617           6648              4  2014-12-16    20\n42172    51859808  122014872          10501              4  2014-12-16    20\n45398   115939997  123405281          12553              4  2014-12-16    22\n49096    60817805  125336077          12090              4  2014-12-16    18\n78115   105731936  140098198           4722              4  2014-12-16    18\n87538    63660779  144357343           6648              4  2014-12-16    21\n103836  134143587  152725975            198              4  2014-12-16    18\n110784  140015654  156189761           3723              4  2014-12-16    22\n112354   54287375  156994015           3925              4  2014-12-16    21\n"
     ]
    }
   ],
   "source": [
    "df4=df[(df.date == feature_date) & (df.behavior_type == 4) & (df.hour >= 18)]\n",
    "print df4.shape\n",
    "print df4.head(10)"
   ]
  },
  {
   "cell_type": "code",
   "execution_count": 8,
   "metadata": {},
   "outputs": [
    {
     "name": "stdout",
     "output_type": "stream",
     "text": [
      "(164, 11)\n     user_id    item_id  item_category_x  behavior_type_x      date_x  hour_x  \\\n0   60817805  125336077            12090                3  2014-12-16      23   \n1  134143587  152725975              198                3  2014-12-16      18   \n2  140015654  156189761             3723                3  2014-12-16      22   \n3   54287375  156994015             3925                3  2014-12-16      21   \n4  117257585   17200562            10431                3  2014-12-16      21   \n5  141938543  178789856              438                3  2014-12-16      20   \n6   23926348  192722116            13034                3  2014-12-16      21   \n7   45499133  198176152             7393                3  2014-12-16      22   \n8    4365869  214867102             1963                3  2014-12-16      19   \n9  110330743  215866724              438                3  2014-12-16      23   \n\n   item_category_y  behavior_type_y      date_y  hour_y  addandbuy  \n0            12090                4  2014-12-16      18          1  \n1              198                4  2014-12-16      18          1  \n2             3723                4  2014-12-16      22          1  \n3             3925                4  2014-12-16      21          1  \n4            10431                4  2014-12-16      21          1  \n5              438                4  2014-12-16      20          1  \n6            13034                4  2014-12-16      21          1  \n7             7393                4  2014-12-16      22          1  \n8             1963                4  2014-12-16      20          1  \n9              438                4  2014-12-16      23          1  \n"
     ]
    }
   ],
   "source": [
    "#16日当天加购并且购买\n",
    "addandbuy=pd.merge(df3,df4,how='inner',on=['user_id','item_id'])\n",
    "addandbuy['addandbuy']=1\n",
    "print addandbuy.shape\n",
    "print addandbuy.head(10)"
   ]
  },
  {
   "cell_type": "code",
   "execution_count": 9,
   "metadata": {},
   "outputs": [
    {
     "name": "stdout",
     "output_type": "stream",
     "text": [
      "(929, 15)\n    user_id    item_id  item_category  behavior_type        date  hour  \\\n0  47184224  100079162           4778              3  2014-12-16    18   \n\n   item_category_x  behavior_type_x date_x  hour_x  item_category_y  \\\n0              0.0              0.0      0     0.0              0.0   \n\n   behavior_type_y date_y  hour_y  addandbuy  \n0              0.0      0     0.0        0.0  \n"
     ]
    }
   ],
   "source": [
    "#18点是否加购的特征加入df3\n",
    "df_18_ifadd=pd.merge(df3,addandbuy,how='left',on=['user_id','item_id'])\n",
    "df_18_ifadd=df_18_ifadd.fillna(0)\n",
    "print df_18_ifadd.shape\n",
    "print df_18_ifadd.head(1)"
   ]
  },
  {
   "cell_type": "code",
   "execution_count": 12,
   "metadata": {},
   "outputs": [
    {
     "name": "stdout",
     "output_type": "stream",
     "text": [
      "(30073, 3)\n   user_id    item_id  brows_count\n0    59436  184081436            4\n1    61797   83261906            3\n2   134211    6491625            2\n3   134211   79679783            2\n4   134211   96616269            2\n5   134211  330807277            2\n6   161481  299961071            1\n7   182343   72718120            1\n8   182343  112543556            2\n9   182343  259931960            2\n"
     ]
    }
   ],
   "source": [
    "# 浏览量统计\n",
    "df_brows_count = df[(df.date == feature_date) & (df.behavior_type == 1)]\n",
    "df_brows_count = df_brows_count.groupby(['user_id', 'item_id'], as_index=False) \\\n",
    "    .behavior_type.agg({'brows_count': np.size})\n",
    "print df_brows_count.shape\n",
    "print df_brows_count.head(10)"
   ]
  },
  {
   "cell_type": "code",
   "execution_count": 13,
   "metadata": {},
   "outputs": [
    {
     "name": "stdout",
     "output_type": "stream",
     "text": [
      "(1103, 3)\n   user_id    item_id  collect_count\n0   404232  188280995              1\n1   431616  134366643              1\n2   431616  154990025              1\n3   431616  329624631              1\n4   487386  100835909              1\n5   487386  104562108              1\n6   487386  129607071              1\n7   487386  175235179              1\n8   487386  305245091              1\n9   487386  333169427              1\n"
     ]
    }
   ],
   "source": [
    "# 收藏量统计\n",
    "df_collect_count = df[(df.date == feature_date) & (df.behavior_type == 2)]\n",
    "df_collect_count = df_collect_count.groupby(['user_id', 'item_id'], as_index=False) \\\n",
    "    .behavior_type.agg({'collect_count': np.size})\n",
    "print df_collect_count.shape\n",
    "print df_collect_count.head(10)\n"
   ]
  },
  {
   "cell_type": "code",
   "execution_count": 14,
   "metadata": {},
   "outputs": [
    {
     "name": "stdout",
     "output_type": "stream",
     "text": [
      "(1713, 3)\n   user_id    item_id  add_count\n0   519693  218956054          1\n1   519693  235772999          1\n2   536394   34937426          1\n3   536394  221204794          1\n4  1051240  124928480          1\n5  1096774   57739007          1\n6  1462804   38600005          1\n7  1462804  109002008          1\n8  1462804  140857791          1\n9  1462804  151259325          1\n"
     ]
    }
   ],
   "source": [
    "# 加购量统计\n",
    "df_add_count = df[(df.date == feature_date) & (df.behavior_type == 3)]\n",
    "df_add_count = df_add_count.groupby(['user_id', 'item_id'], as_index=False) \\\n",
    "    .behavior_type.agg({'add_count': np.size})\n",
    "print df_add_count.shape\n",
    "print df_add_count.head(10)"
   ]
  },
  {
   "cell_type": "code",
   "execution_count": 15,
   "metadata": {},
   "outputs": [
    {
     "name": "stdout",
     "output_type": "stream",
     "text": [
      "(756, 3)\n   user_id    item_id  buy_count\n0   487386  154082709          1\n1   487386  175235179          1\n2   511884   75771428          1\n3  1134976  284916088          1\n4  1172767  293099318          1\n5  1287220  213454496          1\n6  1591612  388604292          1\n7  2201473  204806750          1\n8  2333977   61988840          1\n9  2549731  228919733          1\n"
     ]
    }
   ],
   "source": [
    "df_buy_count = df[(df.date == feature_date) & (df.behavior_type == 4)]\n",
    "df_buy_count = df_buy_count.groupby(['user_id', 'item_id'], as_index=False) \\\n",
    "    .behavior_type.agg({'buy_count': np.size})\n",
    "print df_buy_count.shape\n",
    "print df_buy_count.head(10)"
   ]
  },
  {
   "cell_type": "code",
   "execution_count": 16,
   "metadata": {},
   "outputs": [
    {
     "name": "stdout",
     "output_type": "stream",
     "text": [
      "(30198, 8)\n    user_id      item_id  brows_count  collect_count  add_count  buy_count  \\\n0   59436.0  184081436.0          4.0            0.0        0.0        0.0   \n1   61797.0   83261906.0          3.0            0.0        0.0        0.0   \n2  134211.0    6491625.0          2.0            0.0        0.0        0.0   \n3  134211.0   79679783.0          2.0            0.0        0.0        0.0   \n4  134211.0   96616269.0          2.0            0.0        0.0        0.0   \n\n   item_category  addandbuy  \n0            0.0        0.0  \n1            0.0        0.0  \n2            0.0        0.0  \n3            0.0        0.0  \n4            0.0        0.0  \n"
     ]
    }
   ],
   "source": [
    "# 合并字段\n",
    "tezhengdf = df3.loc[:, ['user_id', 'item_id','item_category', 'addandbuy']]\n",
    "tmpdf1=pd.merge(df_brows_count,df_collect_count,how='outer',on=['user_id','item_id'])\n",
    "tmpdf2=pd.merge(df_add_count,df_buy_count,how='outer',on=['user_id','item_id'])\n",
    "tmpdf3=pd.merge(tmpdf1,tmpdf2,how='outer',on=['user_id','item_id'])\n",
    "feature_df=pd.merge(tmpdf3,tezhengdf,how='outer',on=['user_id','item_id'])\n",
    "feature_df=feature_df.fillna(0)\n",
    "print feature_df.shape\n",
    "print feature_df.head()\n"
   ]
  },
  {
   "cell_type": "code",
   "execution_count": 18,
   "metadata": {
    "collapsed": false
   },
   "outputs": [
    {
     "name": "stdout",
     "output_type": "stream",
     "text": [
      "     user_id      item_id  brows_count  collect_count  add_count  buy_count  \\\n0    59436.0  184081436.0          4.0            0.0        0.0        0.0   \n1    61797.0   83261906.0          3.0            0.0        0.0        0.0   \n2   134211.0    6491625.0          2.0            0.0        0.0        0.0   \n3   134211.0   79679783.0          2.0            0.0        0.0        0.0   \n4   134211.0   96616269.0          2.0            0.0        0.0        0.0   \n5   134211.0  330807277.0          2.0            0.0        0.0        0.0   \n6   161481.0  299961071.0          1.0            0.0        0.0        0.0   \n7   182343.0   72718120.0          1.0            0.0        0.0        0.0   \n8   182343.0  112543556.0          2.0            0.0        0.0        0.0   \n9   182343.0  259931960.0          2.0            0.0        0.0        0.0   \n10  182343.0  264704619.0          1.0            0.0        0.0        0.0   \n11  183987.0  124581566.0          2.0            0.0        0.0        0.0   \n12  190518.0  163966142.0          1.0            0.0        0.0        0.0   \n13  252270.0   38890853.0          3.0            0.0        0.0        0.0   \n14  252270.0   60857891.0          4.0            0.0        0.0        0.0   \n15  252270.0   74920973.0          1.0            0.0        0.0        0.0   \n16  252270.0   83603842.0          3.0            0.0        0.0        0.0   \n17  252270.0  101459563.0          1.0            0.0        0.0        0.0   \n18  252270.0  116046158.0          1.0            0.0        0.0        0.0   \n19  252270.0  130914633.0          1.0            0.0        0.0        0.0   \n\n    item_category  addandbuy  buyofbrows  buyofcollect  buyofadd  \n0             0.0        0.0         0.0           NaN       NaN  \n1             0.0        0.0         0.0           NaN       NaN  \n2             0.0        0.0         0.0           NaN       NaN  \n3             0.0        0.0         0.0           NaN       NaN  \n4             0.0        0.0         0.0           NaN       NaN  \n5             0.0        0.0         0.0           NaN       NaN  \n6             0.0        0.0         0.0           NaN       NaN  \n7             0.0        0.0         0.0           NaN       NaN  \n8             0.0        0.0         0.0           NaN       NaN  \n9             0.0        0.0         0.0           NaN       NaN  \n10            0.0        0.0         0.0           NaN       NaN  \n11            0.0        0.0         0.0           NaN       NaN  \n12            0.0        0.0         0.0           NaN       NaN  \n13            0.0        0.0         0.0           NaN       NaN  \n14            0.0        0.0         0.0           NaN       NaN  \n15            0.0        0.0         0.0           NaN       NaN  \n16            0.0        0.0         0.0           NaN       NaN  \n17            0.0        0.0         0.0           NaN       NaN  \n18            0.0        0.0         0.0           NaN       NaN  \n19            0.0        0.0         0.0           NaN       NaN  \n"
     ]
    }
   ],
   "source": [
    "# 购买占浏览量的比例\n",
    "feature_df['buyofbrows'] = feature_df['buy_count']/feature_df['brows_count']\n",
    "# 购买占收藏的比例\n",
    "feature_df['buyofcollect'] = feature_df['buy_count']/feature_df['collect_count']\n",
    "# 购买占加购的比例\n",
    "feature_df['buyofadd'] = feature_df['buy_count']/feature_df['add_count']\n",
    "print feature_df.head(20)\n"
   ]
  },
  {
   "cell_type": "code",
   "execution_count": 20,
   "metadata": {},
   "outputs": [
    {
     "name": "stdout",
     "output_type": "stream",
     "text": [
      "   user_id  u_brows_count\n0    59436              4\n1    61797              3\n2   134211              8\n3   161481              1\n4   182343              6\n"
     ]
    }
   ],
   "source": [
    "#提取特征最近1天（用户）的浏览数量\n",
    "u_df1 = df[(df.date == feature_date) & (df.behavior_type == 1)]\n",
    "u_df1 = u_df1.groupby(['user_id'], as_index=False)['behavior_type'].agg({'u_brows_count': np.size})\n",
    "print u_df1.head()\n",
    "\n",
    "\n"
   ]
  },
  {
   "cell_type": "code",
   "execution_count": 21,
   "metadata": {},
   "outputs": [
    {
     "name": "stdout",
     "output_type": "stream",
     "text": [
      "   user_id  u_collect_count\n0   404232                1\n1   431616                3\n2   487386                7\n3   595845                2\n4  1096774                1\n"
     ]
    }
   ],
   "source": [
    "#提取特征最近1天（用户）的收藏的记录数量\n",
    "u_df2=df[(df.date==feature_date) & (df.behavior_type==2)]\n",
    "u_df2 =u_df2.groupby(['user_id'], as_index=False)['behavior_type'].agg({'u_collect_count': np.size})\n",
    "print u_df2.head()"
   ]
  },
  {
   "cell_type": "code",
   "execution_count": 22,
   "metadata": {},
   "outputs": [
    {
     "name": "stdout",
     "output_type": "stream",
     "text": [
      "   user_id  u_add_count\n0  1051240            1\n1  1096774            1\n2  1462804            7\n3  1591612            1\n4  1903255            1\n"
     ]
    }
   ],
   "source": [
    "#提取特征最近1天（用户）的加购的记录数量\n",
    "u_df3=df[(df.date==feature_date) & (df.behavior_type==3)]\n",
    "u_df3 =df3.groupby(['user_id'], as_index=False)['user_id'].agg({'u_add_count': np.size})\n",
    "print u_df3.head()"
   ]
  },
  {
   "cell_type": "code",
   "execution_count": 23,
   "metadata": {},
   "outputs": [
    {
     "name": "stdout",
     "output_type": "stream",
     "text": [
      "   user_id  u_buy_count\n0   487386            1\n1  1287220            1\n2  1591612            1\n3  2201473            1\n4  2333977            1\n"
     ]
    }
   ],
   "source": [
    "#提取特征最近1天（用户）的购买的记录数量\n",
    "u_df4=df[(df.date==feature_date) & (df.behavior_type==4)]\n",
    "u_df4 =df4.groupby(['user_id'], as_index=False)['user_id'].agg({'u_buy_count': np.size})\n",
    "print u_df4.head()"
   ]
  },
  {
   "cell_type": "code",
   "execution_count": 24,
   "metadata": {},
   "outputs": [
    {
     "name": "stdout",
     "output_type": "stream",
     "text": [
      "(4105, 5)     user_id  u_brows_count  u_collect_count  u_add_count  u_buy_count\n0   59436.0            4.0              0.0          0.0          0.0\n1   61797.0            3.0              0.0          0.0          0.0\n2  134211.0            8.0              0.0          0.0          0.0\n3  161481.0            1.0              0.0          0.0          0.0\n4  182343.0            6.0              0.0          0.0          0.0\n"
     ]
    }
   ],
   "source": [
    "#将用户特征进行合并\n",
    "u_feature_df=pd.merge(u_df1,u_df2,how='outer',on=['user_id'])\n",
    "u_feature_df1=pd.merge(u_df3,u_df4,how='outer',on=['user_id'])\n",
    "u_feature_df=pd.merge(u_feature_df,u_feature_df1,how='outer',on=['user_id'])\n",
    "u_feature_df=u_feature_df.fillna(0)\n",
    "print u_feature_df.shape,u_feature_df.head()"
   ]
  },
  {
   "cell_type": "code",
   "execution_count": 25,
   "metadata": {},
   "outputs": [
    {
     "name": "stdout",
     "output_type": "stream",
     "text": [
      "(30198, 15)      user_id      item_id  brows_count  collect_count  add_count  buy_count  \\\n0    59436.0  184081436.0          4.0            0.0        0.0        0.0   \n1    61797.0   83261906.0          3.0            0.0        0.0        0.0   \n2   134211.0    6491625.0          2.0            0.0        0.0        0.0   \n3   134211.0   79679783.0          2.0            0.0        0.0        0.0   \n4   134211.0   96616269.0          2.0            0.0        0.0        0.0   \n5   134211.0  330807277.0          2.0            0.0        0.0        0.0   \n6   161481.0  299961071.0          1.0            0.0        0.0        0.0   \n7   182343.0   72718120.0          1.0            0.0        0.0        0.0   \n8   182343.0  112543556.0          2.0            0.0        0.0        0.0   \n9   182343.0  259931960.0          2.0            0.0        0.0        0.0   \n10  182343.0  264704619.0          1.0            0.0        0.0        0.0   \n11  183987.0  124581566.0          2.0            0.0        0.0        0.0   \n12  190518.0  163966142.0          1.0            0.0        0.0        0.0   \n13  252270.0   38890853.0          3.0            0.0        0.0        0.0   \n14  252270.0   60857891.0          4.0            0.0        0.0        0.0   \n15  252270.0   74920973.0          1.0            0.0        0.0        0.0   \n16  252270.0   83603842.0          3.0            0.0        0.0        0.0   \n17  252270.0  101459563.0          1.0            0.0        0.0        0.0   \n18  252270.0  116046158.0          1.0            0.0        0.0        0.0   \n19  252270.0  130914633.0          1.0            0.0        0.0        0.0   \n\n    item_category  addandbuy  buyofbrows  buyofcollect  buyofadd  \\\n0             0.0        0.0         0.0           0.0       0.0   \n1             0.0        0.0         0.0           0.0       0.0   \n2             0.0        0.0         0.0           0.0       0.0   \n3             0.0        0.0         0.0           0.0       0.0   \n4             0.0        0.0         0.0           0.0       0.0   \n5             0.0        0.0         0.0           0.0       0.0   \n6             0.0        0.0         0.0           0.0       0.0   \n7             0.0        0.0         0.0           0.0       0.0   \n8             0.0        0.0         0.0           0.0       0.0   \n9             0.0        0.0         0.0           0.0       0.0   \n10            0.0        0.0         0.0           0.0       0.0   \n11            0.0        0.0         0.0           0.0       0.0   \n12            0.0        0.0         0.0           0.0       0.0   \n13            0.0        0.0         0.0           0.0       0.0   \n14            0.0        0.0         0.0           0.0       0.0   \n15            0.0        0.0         0.0           0.0       0.0   \n16            0.0        0.0         0.0           0.0       0.0   \n17            0.0        0.0         0.0           0.0       0.0   \n18            0.0        0.0         0.0           0.0       0.0   \n19            0.0        0.0         0.0           0.0       0.0   \n\n    u_brows_count  u_collect_count  u_add_count  u_buy_count  \n0             4.0              0.0          0.0          0.0  \n1             3.0              0.0          0.0          0.0  \n2             8.0              0.0          0.0          0.0  \n3             8.0              0.0          0.0          0.0  \n4             8.0              0.0          0.0          0.0  \n5             8.0              0.0          0.0          0.0  \n6             1.0              0.0          0.0          0.0  \n7             6.0              0.0          0.0          0.0  \n8             6.0              0.0          0.0          0.0  \n9             6.0              0.0          0.0          0.0  \n10            6.0              0.0          0.0          0.0  \n11            2.0              0.0          0.0          0.0  \n12            1.0              0.0          0.0          0.0  \n13           40.0              0.0          0.0          0.0  \n14           40.0              0.0          0.0          0.0  \n15           40.0              0.0          0.0          0.0  \n16           40.0              0.0          0.0          0.0  \n17           40.0              0.0          0.0          0.0  \n18           40.0              0.0          0.0          0.0  \n19           40.0              0.0          0.0          0.0  \n"
     ]
    }
   ],
   "source": [
    "#将特征合并\n",
    "feature_df=pd.merge(feature_df,u_feature_df,how='left',on=['user_id'])\n",
    "feature_df=feature_df.fillna(0)\n",
    "print feature_df.shape,feature_df.head(20)"
   ]
  },
  {
   "cell_type": "code",
   "execution_count": 26,
   "metadata": {},
   "outputs": [
    {
     "name": "stdout",
     "output_type": "stream",
     "text": [
      "(720, 3)\n         user_id    item_id  target\n1025    42369712  100570822       1\n4147   113190941  102360256       1\n5200    33541423  102984080       1\n8711   137607597  104883287       1\n14989   34714627  108275033       1\n17755  129098352  109691887       1\n18744   62871584  110238507       1\n18979  106342022  110310343       1\n23441  131157314  112589217       1\n29841   37165541   11572504       1\n30874  102105235  116247903       1\n33351  121875002  117300815       1\n38776   28674134  120163823       1\n40768   29120381  121174040       1\n51726   16334101  126492618       1\n52427  121299887  126777986       1\n54373  137358666  127431729       1\n54585  119279535  127517940       1\n57431   10874175  129098469       1\n58409   45470234  129662365       1\n"
     ]
    },
    {
     "name": "stderr",
     "output_type": "stream",
     "text": [
      "D:\\Anaconda2\\lib\\site-packages\\ipykernel\\__main__.py:3: SettingWithCopyWarning: \nA value is trying to be set on a copy of a slice from a DataFrame.\nTry using .loc[row_indexer,col_indexer] = value instead\n\nSee the caveats in the documentation: http://pandas.pydata.org/pandas-docs/stable/indexing.html#indexing-view-versus-copy\n  app.launch_new_instance()\n"
     ]
    }
   ],
   "source": [
    "#取17号数据\n",
    "target_df = df[(df.date == '2014-12-17') & (df.behavior_type == 4)]\n",
    "target_df['target']=1\n",
    "target_df=target_df.loc[:,['user_id','item_id','target']]\n",
    "print target_df.shape\n",
    "print target_df.head(20)\n"
   ]
  },
  {
   "cell_type": "code",
   "execution_count": 27,
   "metadata": {},
   "outputs": [
    {
     "name": "stdout",
     "output_type": "stream",
     "text": [
      "(30183, 16)\n    user_id      item_id  brows_count  collect_count  add_count  buy_count  \\\n0   59436.0  184081436.0          4.0            0.0        0.0        0.0   \n1   61797.0   83261906.0          3.0            0.0        0.0        0.0   \n2  134211.0    6491625.0          2.0            0.0        0.0        0.0   \n3  134211.0   79679783.0          2.0            0.0        0.0        0.0   \n4  134211.0   96616269.0          2.0            0.0        0.0        0.0   \n5  134211.0  330807277.0          2.0            0.0        0.0        0.0   \n6  161481.0  299961071.0          1.0            0.0        0.0        0.0   \n7  182343.0   72718120.0          1.0            0.0        0.0        0.0   \n8  182343.0  112543556.0          2.0            0.0        0.0        0.0   \n9  182343.0  259931960.0          2.0            0.0        0.0        0.0   \n\n   item_category  addandbuy  buyofbrows  buyofcollect  buyofadd  \\\n0            0.0        0.0         0.0           0.0       0.0   \n1            0.0        0.0         0.0           0.0       0.0   \n2            0.0        0.0         0.0           0.0       0.0   \n3            0.0        0.0         0.0           0.0       0.0   \n4            0.0        0.0         0.0           0.0       0.0   \n5            0.0        0.0         0.0           0.0       0.0   \n6            0.0        0.0         0.0           0.0       0.0   \n7            0.0        0.0         0.0           0.0       0.0   \n8            0.0        0.0         0.0           0.0       0.0   \n9            0.0        0.0         0.0           0.0       0.0   \n\n   u_brows_count  u_collect_count  u_add_count  u_buy_count  target  \n0            4.0              0.0          0.0          0.0     0.0  \n1            3.0              0.0          0.0          0.0     0.0  \n2            8.0              0.0          0.0          0.0     0.0  \n3            8.0              0.0          0.0          0.0     0.0  \n4            8.0              0.0          0.0          0.0     0.0  \n5            8.0              0.0          0.0          0.0     0.0  \n6            1.0              0.0          0.0          0.0     0.0  \n7            6.0              0.0          0.0          0.0     0.0  \n8            6.0              0.0          0.0          0.0     0.0  \n9            6.0              0.0          0.0          0.0     0.0  \n"
     ]
    }
   ],
   "source": [
    "feature_data=pd.merge(feature_df,target_df,how='left',on=['user_id','item_id']).drop_duplicates(['user_id','item_id'])\n",
    "print feature_data.shape\n",
    "feature_data=feature_data.fillna(0)\n",
    "print feature_data.head(10)"
   ]
  },
  {
   "cell_type": "code",
   "execution_count": 28,
   "metadata": {},
   "outputs": [],
   "source": [
    "positive_df=feature_data[feature_data['target']==1]\n",
    "negative_df=feature_data[feature_data['target']==0]\n",
    "negative_df=pd.DataFrame.sample(negative_df,positive_df.shape[0]*5)"
   ]
  },
  {
   "cell_type": "code",
   "execution_count": 29,
   "metadata": {},
   "outputs": [
    {
     "name": "stdout",
     "output_type": "stream",
     "text": [
      "(129, 16)\n(645, 16)\n"
     ]
    }
   ],
   "source": [
    "print positive_df.shape\n",
    "print negative_df.shape"
   ]
  },
  {
   "cell_type": "code",
   "execution_count": 32,
   "metadata": {},
   "outputs": [
    {
     "name": "stdout",
     "output_type": "stream",
     "text": [
      "         user_id      item_id  brows_count  collect_count  add_count  \\\n135    1096774.0   57739007.0          4.0            0.0        1.0   \n322    1694224.0  340480775.0          3.0            0.0        0.0   \n585    2630830.0  202530287.0          2.0            0.0        1.0   \n887    3376717.0  288552625.0          4.0            0.0        1.0   \n990    3687502.0  121555932.0          3.0            0.0        0.0   \n1036   4041047.0   98723312.0          9.0            0.0        1.0   \n1039   4041047.0  218700963.0          4.0            0.0        0.0   \n1181   4564376.0  132929824.0          3.0            0.0        0.0   \n1182   4564376.0  389342445.0          2.0            0.0        0.0   \n1321   5352155.0  335956990.0          7.0            1.0        0.0   \n1908  10874175.0  129098469.0          1.0            1.0        0.0   \n2876  13698828.0  236600747.0         12.0            1.0        0.0   \n2887  13698828.0  332555164.0          6.0            0.0        0.0   \n2989  13908381.0   78280541.0          3.0            0.0        1.0   \n3169  14541966.0  303398872.0          7.0            0.0        2.0   \n4094  17562880.0  268367042.0          2.0            0.0        0.0   \n4890  20625528.0  372289945.0          3.0            0.0        0.0   \n5459  22070271.0  100171520.0          1.0            0.0        0.0   \n5813  23182222.0  206377150.0          6.0            0.0        1.0   \n5917  23605678.0   48785210.0          6.0            1.0        0.0   \n\n      buy_count  item_category  addandbuy  buyofbrows  buyofcollect  buyofadd  \\\n135         0.0         2284.0        0.0        0.00      0.000000  0.000000   \n322         0.0            0.0        0.0        0.00      0.000000  0.000000   \n585         0.0            0.0        0.0        0.00      0.000000  0.000000   \n887         0.0         7971.0        0.0        0.00      0.000000  0.000000   \n990         0.0            0.0        0.0        0.00      0.000000  0.000000   \n1036        0.0            0.0        0.0        0.00      0.000000  0.000000   \n1039        0.0            0.0        0.0        0.00      0.000000  0.000000   \n1181        0.0            0.0        0.0        0.00      0.000000  0.000000   \n1182        0.0            0.0        0.0        0.00      0.000000  0.000000   \n1321        0.0            0.0        0.0        0.00      0.000000  0.000000   \n1908        0.0            0.0        0.0        0.00      0.000000  0.000000   \n2876        1.0            0.0        0.0        0.08      1.000000       inf   \n2887        0.0            0.0        0.0        0.00      0.000000  0.000000   \n2989        0.0         9334.0        0.0        0.00      0.000000  0.000000   \n3169        1.0            0.0        0.0        0.14           inf  0.500000   \n4094        0.0            0.0        0.0        0.00      0.000000  0.000000   \n4890        0.0            0.0        0.0        0.00      0.000000  0.000000   \n5459        0.0            0.0        0.0        0.00      0.000000  0.000000   \n5813        0.0            0.0        0.0        0.00      0.000000  0.000000   \n5917        0.0            0.0        0.0        0.00      0.000000  0.000000   \n\n      u_brows_count  u_collect_count  u_add_count  u_buy_count  target  \n135            23.0              1.0          1.0          0.0     1.0  \n322             6.0              0.0          0.0          0.0     1.0  \n585            39.0              0.0          0.0          0.0     1.0  \n887            78.0              0.0          2.0          0.0     1.0  \n990            11.0              0.0          0.0          0.0     1.0  \n1036           17.0              0.0          0.0          0.0     1.0  \n1039           17.0              0.0          0.0          0.0     1.0  \n1181            5.0              0.0          0.0          0.0     1.0  \n1182            5.0              0.0          0.0          0.0     1.0  \n1321           54.0              5.0          0.0          0.0     1.0  \n1908          166.0             14.0          0.0          0.0     1.0  \n2876           86.0              4.0          1.0          2.0     1.0  \n2887           86.0              4.0          1.0          2.0     1.0  \n2989           29.0              0.0          1.0          0.0     1.0  \n3169            7.0              0.0          0.0          0.0     1.0  \n4094          138.0              5.0          0.0          0.0     1.0  \n4890            7.0              0.0          0.0          0.0     1.0  \n5459           19.0              3.0          0.0          0.0     1.0  \n5813           29.0              0.0          0.0          0.0     1.0  \n5917           38.0              2.0          0.0          0.0     1.0  \n"
     ]
    }
   ],
   "source": [
    "#合并\n",
    "sample=pd.concat([positive_df,negative_df],axis=0)\n",
    "sample=pd.DataFrame.round(sample,2)\n",
    "print sample.head(20)"
   ]
  },
  {
   "cell_type": "code",
   "execution_count": 33,
   "metadata": {},
   "outputs": [],
   "source": [
    "sample.to_csv('D:\\DAUM\\\\train.csv',index=False)"
   ]
  },
  {
   "cell_type": "code",
   "execution_count": null,
   "metadata": {},
   "outputs": [],
   "source": []
  }
 ],
 "metadata": {
  "kernelspec": {
   "display_name": "Python 2",
   "language": "python",
   "name": "python2"
  },
  "language_info": {
   "codemirror_mode": {
    "name": "ipython",
    "version": 2
   },
   "file_extension": ".py",
   "mimetype": "text/x-python",
   "name": "python",
   "nbconvert_exporter": "python",
   "pygments_lexer": "ipython2",
   "version": "2.7.6"
  }
 },
 "nbformat": 4,
 "nbformat_minor": 0
}
