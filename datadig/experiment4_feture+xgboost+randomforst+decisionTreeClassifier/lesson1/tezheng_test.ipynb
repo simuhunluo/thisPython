{
 "cells": [
  {
   "cell_type": "code",
   "execution_count": 1,
   "metadata": {
    "collapsed": true
   },
   "outputs": [],
   "source": [
    "# -*-encoding=utf-8-*-\n",
    "import matplotlib.pyplot as plt\n",
    "import pandas as pd\n",
    "import numpy as np\n"
   ]
  },
  {
   "cell_type": "code",
   "execution_count": 27,
   "metadata": {},
   "outputs": [],
   "source": [
    "# itemdata=pd.read_csv(\"C:\\Users\\scc\\PycharmProjects\\untitled1\\datadig2\\\\tianchi_fresh_comp_train_item.csv\")\n",
    "# userdata=pd.read_csv(\"C:\\Users\\scc\\PycharmProjects\\untitled1\\datadig2\\\\new_train_user.csv\")\n",
    "itemdata=pd.read_csv(\"D:\\DAUM\\\\tianchi_fresh_comp_train_item.csv\")\n",
    "userdata=pd.read_csv(\"D:\\DAUM\\\\new_train_user.csv\")"
   ]
  },
  {
   "cell_type": "code",
   "execution_count": 28,
   "metadata": {},
   "outputs": [
    {
     "name": "stdout",
     "output_type": "stream",
     "text": [
      "(422858, 3)\n"
     ]
    }
   ],
   "source": [
    "#取出唯一的商品ID和类别\n",
    "itemdata_id_category=itemdata.drop_duplicates(['item_id','item_category'])\n",
    "print itemdata_id_category.shape"
   ]
  },
  {
   "cell_type": "code",
   "execution_count": 29,
   "metadata": {},
   "outputs": [
    {
     "name": "stdout",
     "output_type": "stream",
     "text": [
      "(2084859, 7)\n"
     ]
    }
   ],
   "source": [
    "#取出有交互的商品数目\n",
    "sub=pd.merge(itemdata_id_category,userdata,how='inner',on=['item_id','item_category'])\n",
    "print sub.shape\n"
   ]
  },
  {
   "cell_type": "code",
   "execution_count": 30,
   "metadata": {},
   "outputs": [
    {
     "name": "stdout",
     "output_type": "stream",
     "text": [
      "['item_id', 'item_geohash', 'item_category', 'user_id', 'behavior_type', 'date', 'hour']\n"
     ]
    },
    {
     "name": "stdout",
     "output_type": "stream",
     "text": [
      "     user_id    item_id  item_category  behavior_type        date  hour\n0   20723532  100002303           3368              1  2014-11-22    18\n1   20723532  100002303           3368              1  2014-11-22    18\n2   20723532  100002303           3368              1  2014-11-22    18\n3   44416664  100002303           3368              1  2014-12-16    15\n4   44416664  100002303           3368              1  2014-12-16    15\n5  142281897  100002303           3368              1  2014-12-02    23\n6  109084811  100003592           7995              1  2014-11-24    18\n7  134325108  100006838          12630              1  2014-11-19    21\n8    5015420  100008089           7791              1  2014-12-09    20\n9  135142209  100012750           9614              1  2014-11-22    23\n"
     ]
    }
   ],
   "source": [
    "# print sub.head(10)\n",
    "cols = list(sub)\n",
    "print cols\n",
    "cols=['user_id', 'item_id', 'item_geohash', 'item_category', 'behavior_type', 'date', 'hour']\n",
    "df = sub.ix[:, cols]\n",
    "del df['item_geohash']\n",
    "print df.head(10)"
   ]
  },
  {
   "cell_type": "code",
   "execution_count": 31,
   "metadata": {},
   "outputs": [
    {
     "name": "stdout",
     "output_type": "stream",
     "text": [
      "(768, 6)\n         user_id    item_id  item_category  behavior_type        date  hour\n127    132236660  100079162           4778              3  2014-12-17    20\n6406   116631182  103835557           1483              3  2014-12-17    18\n9890    25730704  105318396           9232              3  2014-12-17    18\n14301  108324380  107852873           3942              3  2014-12-17    20\n21671   39175121  111602834          11991              3  2014-12-17    19\n22758  135378246  112189655          11497              3  2014-12-17    22\n32377  132626507   11685888           3064              3  2014-12-17    21\n34330   13855326  117807825           7876              3  2014-12-17    22\n38568   36548990  120063996          11991              3  2014-12-17    21\n42320   17562880  122174462           4245              3  2014-12-17    22\n"
     ]
    }
   ],
   "source": [
    "#选取17号作为特征数据\n",
    "feature_date = '2014-12-17'\n",
    "df3 = df[(df.date == feature_date) & (df.behavior_type == 3) & (df.hour >= 18)]\n",
    "print df3.shape\n",
    "print df3.head(10)\n"
   ]
  },
  {
   "cell_type": "code",
   "execution_count": 32,
   "metadata": {},
   "outputs": [
    {
     "name": "stdout",
     "output_type": "stream",
     "text": [
      "(297, 6)\n         user_id    item_id  item_category  behavior_type        date  hour\n1025    42369712  100570822           3956              4  2014-12-17    22\n4147   113190941  102360256          13547              4  2014-12-17    21\n5200    33541423  102984080          10015              4  2014-12-17    18\n29841   37165541   11572504           6648              4  2014-12-17    22\n38776   28674134  120163823           5324              4  2014-12-17    22\n57431   10874175  129098469           7791              4  2014-12-17    20\n58409   45470234  129662365           1963              4  2014-12-17    22\n64056    4564376  132929824           1686              4  2014-12-17    21\n64103   49953924  132968128           9232              4  2014-12-17    20\n69589   58404006  135655048           6164              4  2014-12-17    22\n"
     ]
    }
   ],
   "source": [
    "df4=df[(df.date == feature_date) & (df.behavior_type == 4) & (df.hour >= 18)]\n",
    "print df4.shape\n",
    "print df4.head(10)"
   ]
  },
  {
   "cell_type": "code",
   "execution_count": 33,
   "metadata": {},
   "outputs": [
    {
     "name": "stdout",
     "output_type": "stream",
     "text": [
      "(147, 11)\n     user_id    item_id  item_category_x  behavior_type_x      date_x  hour_x  \\\n0    4564376  132929824             1686                3  2014-12-17      21   \n1   49953924  132968128             9232                3  2014-12-17      20   \n2   58404006  135655048             6164                3  2014-12-17      22   \n3   40513258  140944547             3368                3  2014-12-17      20   \n4   40513258  140944547             3368                3  2014-12-17      20   \n5   55540832  155726599             3505                3  2014-12-17      18   \n6  113903693  156595505             2158                3  2014-12-17      21   \n7  113903693  156595505             2158                3  2014-12-17      21   \n8  118630104  176211790             5543                3  2014-12-17      20   \n9    5311010  184420640             2284                3  2014-12-17      18   \n\n   item_category_y  behavior_type_y      date_y  hour_y  addandbuy  \n0             1686                4  2014-12-17      21          1  \n1             9232                4  2014-12-17      20          1  \n2             6164                4  2014-12-17      22          1  \n3             3368                4  2014-12-17      21          1  \n4             3368                4  2014-12-17      21          1  \n5             3505                4  2014-12-17      18          1  \n6             2158                4  2014-12-17      21          1  \n7             2158                4  2014-12-17      21          1  \n8             5543                4  2014-12-17      20          1  \n9             2284                4  2014-12-17      18          1  \n"
     ]
    }
   ],
   "source": [
    "#17日当天加购并且购买\n",
    "addandbuy=pd.merge(df3,df4,how='inner',on=['user_id','item_id'])\n",
    "addandbuy['addandbuy']=1\n",
    "print addandbuy.shape\n",
    "print addandbuy.head(10)"
   ]
  },
  {
   "cell_type": "code",
   "execution_count": 34,
   "metadata": {},
   "outputs": [
    {
     "name": "stdout",
     "output_type": "stream",
     "text": [
      "(801, 15)\n     user_id    item_id  item_category  behavior_type        date  hour  \\\n0  132236660  100079162           4778              3  2014-12-17    20   \n\n   item_category_x  behavior_type_x date_x  hour_x  item_category_y  \\\n0              0.0              0.0      0     0.0              0.0   \n\n   behavior_type_y date_y  hour_y  addandbuy  \n0              0.0      0     0.0        0.0  \n"
     ]
    }
   ],
   "source": [
    "#18点是否加购的特征加入df3\n",
    "df_18_ifadd=pd.merge(df3,addandbuy,how='left',on=['user_id','item_id'])\n",
    "df_18_ifadd=df_18_ifadd.fillna(0)\n",
    "print df_18_ifadd.shape\n",
    "print df_18_ifadd.head(1)"
   ]
  },
  {
   "cell_type": "code",
   "execution_count": 35,
   "metadata": {},
   "outputs": [
    {
     "name": "stdout",
     "output_type": "stream",
     "text": [
      "(29662, 3)\n   user_id    item_id  brows_count\n0    59436  238861461            2\n1    60723  202829025            2\n2    60723  371933634            2\n3   106362   38830684            1\n4   106362  149517272            2\n5   106362  200051509            1\n6   106362  236862264            1\n7   106362  308735138            1\n8   106362  342598663            1\n9   106362  364101379            1\n"
     ]
    }
   ],
   "source": [
    "# 浏览量统计\n",
    "df_brows_count = df[(df.date == feature_date) & (df.behavior_type == 1)]\n",
    "df_brows_count = df_brows_count.groupby(['user_id', 'item_id'], as_index=False) \\\n",
    "    .behavior_type.agg({'brows_count': np.size})\n",
    "print df_brows_count.shape\n",
    "print df_brows_count.head(10)"
   ]
  },
  {
   "cell_type": "code",
   "execution_count": 36,
   "metadata": {},
   "outputs": [
    {
     "name": "stdout",
     "output_type": "stream",
     "text": [
      "(1132, 3)\n   user_id    item_id  collect_count\n0   487386  135995541              1\n1   487386  396534177              1\n2   595845   33619451              1\n3  1031395  127516527              1\n4  1484968  105857507              1\n5  1884205  170407016              1\n6  1996141  181327497              1\n7  2046058   15604509              1\n8  2090599  101403637              1\n9  2090599  296017233              1\n"
     ]
    }
   ],
   "source": [
    "# 收藏量统计\n",
    "df_collect_count = df[(df.date == feature_date) & (df.behavior_type == 2)]\n",
    "df_collect_count = df_collect_count.groupby(['user_id', 'item_id'], as_index=False) \\\n",
    "    .behavior_type.agg({'collect_count': np.size})\n",
    "print df_collect_count.shape\n",
    "print df_collect_count.head(10)\n"
   ]
  },
  {
   "cell_type": "code",
   "execution_count": 37,
   "metadata": {},
   "outputs": [
    {
     "name": "stdout",
     "output_type": "stream",
     "text": [
      "(1724, 3)\n   user_id    item_id  add_count\n0   161481   14285814          1\n1   161481   25651335          1\n2   161481  155199637          1\n3   161481  235875168          1\n4   161481  383479841          1\n5   226017    9592306          1\n6  1012927  105857507          1\n7  1012927  216810080          1\n8  1096774   57739007          1\n9  1107934  298268624          1\n"
     ]
    }
   ],
   "source": [
    "# 加购量统计\n",
    "df_add_count = df[(df.date == feature_date) & (df.behavior_type == 3)]\n",
    "df_add_count = df_add_count.groupby(['user_id', 'item_id'], as_index=False) \\\n",
    "    .behavior_type.agg({'add_count': np.size})\n",
    "print df_add_count.shape\n",
    "print df_add_count.head(10)"
   ]
  },
  {
   "cell_type": "code",
   "execution_count": 38,
   "metadata": {},
   "outputs": [
    {
     "name": "stdout",
     "output_type": "stream",
     "text": [
      "(675, 3)\n   user_id    item_id  buy_count\n0  1096774   57739007          1\n1  1105255   22302304          1\n2  1285111  264035656          1\n3  1287220  148781276          1\n4  1675813  202021439          1\n5  1675813  382820731          1\n6  1694224  340480775          1\n7  1945207  385130797          1\n8  1996141  304121817          1\n9  2292421  181630953          1\n"
     ]
    }
   ],
   "source": [
    "df_buy_count = df[(df.date == feature_date) & (df.behavior_type == 4)]\n",
    "df_buy_count = df_buy_count.groupby(['user_id', 'item_id'], as_index=False) \\\n",
    "    .behavior_type.agg({'buy_count': np.size})\n",
    "print df_buy_count.shape\n",
    "print df_buy_count.head(10)"
   ]
  },
  {
   "cell_type": "code",
   "execution_count": 39,
   "metadata": {},
   "outputs": [
    {
     "name": "stdout",
     "output_type": "stream",
     "text": [
      "(29761, 8)\n    user_id      item_id  brows_count  collect_count  add_count  buy_count  \\\n0   59436.0  238861461.0          2.0            0.0        0.0        0.0   \n1   60723.0  202829025.0          2.0            0.0        0.0        0.0   \n2   60723.0  371933634.0          2.0            0.0        0.0        0.0   \n3  106362.0   38830684.0          1.0            0.0        0.0        0.0   \n4  106362.0  149517272.0          2.0            0.0        0.0        0.0   \n\n   item_category  addandbuy  \n0            0.0        0.0  \n1            0.0        0.0  \n2            0.0        0.0  \n3            0.0        0.0  \n4            0.0        0.0  \n"
     ]
    }
   ],
   "source": [
    "# 合并字段\n",
    "tezhengdf = df3.loc[:, ['user_id', 'item_id','item_category', 'addandbuy']]\n",
    "tmpdf1=pd.merge(df_brows_count,df_collect_count,how='outer',on=['user_id','item_id'])\n",
    "tmpdf2=pd.merge(df_add_count,df_buy_count,how='outer',on=['user_id','item_id'])\n",
    "tmpdf3=pd.merge(tmpdf1,tmpdf2,how='outer',on=['user_id','item_id'])\n",
    "feature_df=pd.merge(tmpdf3,tezhengdf,how='outer',on=['user_id','item_id'])\n",
    "feature_df=feature_df.fillna(0)\n",
    "print feature_df.shape\n",
    "print feature_df.head()\n"
   ]
  },
  {
   "cell_type": "code",
   "execution_count": 40,
   "metadata": {
    "collapsed": false
   },
   "outputs": [
    {
     "name": "stdout",
     "output_type": "stream",
     "text": [
      "     user_id      item_id  brows_count  collect_count  add_count  buy_count  \\\n0    59436.0  238861461.0          2.0            0.0        0.0        0.0   \n1    60723.0  202829025.0          2.0            0.0        0.0        0.0   \n2    60723.0  371933634.0          2.0            0.0        0.0        0.0   \n3   106362.0   38830684.0          1.0            0.0        0.0        0.0   \n4   106362.0  149517272.0          2.0            0.0        0.0        0.0   \n5   106362.0  200051509.0          1.0            0.0        0.0        0.0   \n6   106362.0  236862264.0          1.0            0.0        0.0        0.0   \n7   106362.0  308735138.0          1.0            0.0        0.0        0.0   \n8   106362.0  342598663.0          1.0            0.0        0.0        0.0   \n9   106362.0  364101379.0          1.0            0.0        0.0        0.0   \n10  106362.0  377408757.0          1.0            0.0        0.0        0.0   \n11  137907.0  166251701.0          4.0            0.0        0.0        0.0   \n12  161481.0   14285814.0          2.0            0.0        1.0        0.0   \n13  161481.0   19246429.0          2.0            0.0        0.0        0.0   \n14  161481.0   25651335.0          6.0            0.0        1.0        0.0   \n15  161481.0  155199637.0          4.0            0.0        1.0        0.0   \n16  161481.0  215338463.0          1.0            0.0        0.0        0.0   \n17  161481.0  235875168.0          1.0            0.0        1.0        0.0   \n18  161481.0  383479841.0          2.0            0.0        1.0        0.0   \n19  161481.0  399814334.0          2.0            0.0        0.0        0.0   \n\n    item_category  addandbuy  buyofbrows  buyofcollect  buyofadd  \n0             0.0        0.0         0.0           NaN       NaN  \n1             0.0        0.0         0.0           NaN       NaN  \n2             0.0        0.0         0.0           NaN       NaN  \n3             0.0        0.0         0.0           NaN       NaN  \n4             0.0        0.0         0.0           NaN       NaN  \n5             0.0        0.0         0.0           NaN       NaN  \n6             0.0        0.0         0.0           NaN       NaN  \n7             0.0        0.0         0.0           NaN       NaN  \n8             0.0        0.0         0.0           NaN       NaN  \n9             0.0        0.0         0.0           NaN       NaN  \n10            0.0        0.0         0.0           NaN       NaN  \n11            0.0        0.0         0.0           NaN       NaN  \n12            0.0        0.0         0.0           NaN       0.0  \n13            0.0        0.0         0.0           NaN       NaN  \n14            0.0        0.0         0.0           NaN       0.0  \n15            0.0        0.0         0.0           NaN       0.0  \n16            0.0        0.0         0.0           NaN       NaN  \n17            0.0        0.0         0.0           NaN       0.0  \n18            0.0        0.0         0.0           NaN       0.0  \n19            0.0        0.0         0.0           NaN       NaN  \n"
     ]
    }
   ],
   "source": [
    "# 购买占浏览量的比例\n",
    "feature_df['buyofbrows'] = feature_df['buy_count']/feature_df['brows_count']\n",
    "# 购买占收藏的比例\n",
    "feature_df['buyofcollect'] = feature_df['buy_count']/feature_df['collect_count']\n",
    "# 购买占加购的比例\n",
    "feature_df['buyofadd'] = feature_df['buy_count']/feature_df['add_count']\n",
    "print feature_df.head(20)\n"
   ]
  },
  {
   "cell_type": "code",
   "execution_count": 41,
   "metadata": {},
   "outputs": [
    {
     "name": "stdout",
     "output_type": "stream",
     "text": [
      "   user_id  u_brows_count\n0    59436              2\n1    60723              4\n2   106362              9\n3   137907              4\n4   161481             20\n"
     ]
    }
   ],
   "source": [
    "#提取特征最近1天（用户）的浏览数量\n",
    "u_df1 = df[(df.date == feature_date) & (df.behavior_type == 1)]\n",
    "u_df1 = u_df1.groupby(['user_id'], as_index=False)['behavior_type'].agg({'u_brows_count': np.size})\n",
    "print u_df1.head()"
   ]
  },
  {
   "cell_type": "code",
   "execution_count": 42,
   "metadata": {},
   "outputs": [
    {
     "name": "stdout",
     "output_type": "stream",
     "text": [
      "   user_id  u_collect_count\n0   487386                2\n1   595845                1\n2  1031395                1\n3  1484968                1\n4  1884205                1\n"
     ]
    }
   ],
   "source": [
    "#提取特征最近1天（用户）的收藏的记录数量\n",
    "u_df2=df[(df.date==feature_date) & (df.behavior_type==2)]\n",
    "u_df2 =u_df2.groupby(['user_id'], as_index=False)['behavior_type'].agg({'u_collect_count': np.size})\n",
    "print u_df2.head()"
   ]
  },
  {
   "cell_type": "code",
   "execution_count": 43,
   "metadata": {},
   "outputs": [
    {
     "name": "stdout",
     "output_type": "stream",
     "text": [
      "   user_id  u_add_count\n0   226017            1\n1  1136287            4\n2  2137246            2\n3  2437852            1\n4  2631448            1\n"
     ]
    }
   ],
   "source": [
    "#提取特征最近1天（用户）的加购的记录数量\n",
    "u_df3=df[(df.date==feature_date) & (df.behavior_type==3)]\n",
    "u_df3 =df3.groupby(['user_id'], as_index=False)['user_id'].agg({'u_add_count': np.size})\n",
    "print u_df3.head()"
   ]
  },
  {
   "cell_type": "code",
   "execution_count": 44,
   "metadata": {},
   "outputs": [
    {
     "name": "stdout",
     "output_type": "stream",
     "text": [
      "   user_id  u_buy_count\n0  1105255            1\n1  1285111            1\n2  1945207            1\n3  1996141            1\n4  2292421            1\n"
     ]
    }
   ],
   "source": [
    "#提取特征最近1天（用户）的购买的记录数量\n",
    "u_df4=df[(df.date==feature_date) & (df.behavior_type==4)]\n",
    "u_df4 =df4.groupby(['user_id'], as_index=False)['user_id'].agg({'u_buy_count': np.size})\n",
    "print u_df4.head()"
   ]
  },
  {
   "cell_type": "code",
   "execution_count": 45,
   "metadata": {},
   "outputs": [
    {
     "name": "stdout",
     "output_type": "stream",
     "text": [
      "(4130, 5)     user_id  u_brows_count  u_collect_count  u_add_count  u_buy_count\n0   59436.0            2.0              0.0          0.0          0.0\n1   60723.0            4.0              0.0          0.0          0.0\n2  106362.0            9.0              0.0          0.0          0.0\n3  137907.0            4.0              0.0          0.0          0.0\n4  161481.0           20.0              0.0          0.0          0.0\n"
     ]
    }
   ],
   "source": [
    "#将用户特征进行合并\n",
    "u_feature_df=pd.merge(u_df1,u_df2,how='outer',on=['user_id'])\n",
    "u_feature_df1=pd.merge(u_df3,u_df4,how='outer',on=['user_id'])\n",
    "u_feature_df=pd.merge(u_feature_df,u_feature_df1,how='outer',on=['user_id'])\n",
    "u_feature_df=u_feature_df.fillna(0)\n",
    "print u_feature_df.shape,u_feature_df.head()"
   ]
  },
  {
   "cell_type": "code",
   "execution_count": 46,
   "metadata": {},
   "outputs": [
    {
     "name": "stdout",
     "output_type": "stream",
     "text": [
      "(29761, 15)      user_id      item_id  brows_count  collect_count  add_count  buy_count  \\\n0    59436.0  238861461.0          2.0            0.0        0.0        0.0   \n1    60723.0  202829025.0          2.0            0.0        0.0        0.0   \n2    60723.0  371933634.0          2.0            0.0        0.0        0.0   \n3   106362.0   38830684.0          1.0            0.0        0.0        0.0   \n4   106362.0  149517272.0          2.0            0.0        0.0        0.0   \n5   106362.0  200051509.0          1.0            0.0        0.0        0.0   \n6   106362.0  236862264.0          1.0            0.0        0.0        0.0   \n7   106362.0  308735138.0          1.0            0.0        0.0        0.0   \n8   106362.0  342598663.0          1.0            0.0        0.0        0.0   \n9   106362.0  364101379.0          1.0            0.0        0.0        0.0   \n10  106362.0  377408757.0          1.0            0.0        0.0        0.0   \n11  137907.0  166251701.0          4.0            0.0        0.0        0.0   \n12  161481.0   14285814.0          2.0            0.0        1.0        0.0   \n13  161481.0   19246429.0          2.0            0.0        0.0        0.0   \n14  161481.0   25651335.0          6.0            0.0        1.0        0.0   \n15  161481.0  155199637.0          4.0            0.0        1.0        0.0   \n16  161481.0  215338463.0          1.0            0.0        0.0        0.0   \n17  161481.0  235875168.0          1.0            0.0        1.0        0.0   \n18  161481.0  383479841.0          2.0            0.0        1.0        0.0   \n19  161481.0  399814334.0          2.0            0.0        0.0        0.0   \n\n    item_category  addandbuy  buyofbrows  buyofcollect  buyofadd  \\\n0             0.0        0.0         0.0           0.0       0.0   \n1             0.0        0.0         0.0           0.0       0.0   \n2             0.0        0.0         0.0           0.0       0.0   \n3             0.0        0.0         0.0           0.0       0.0   \n4             0.0        0.0         0.0           0.0       0.0   \n5             0.0        0.0         0.0           0.0       0.0   \n6             0.0        0.0         0.0           0.0       0.0   \n7             0.0        0.0         0.0           0.0       0.0   \n8             0.0        0.0         0.0           0.0       0.0   \n9             0.0        0.0         0.0           0.0       0.0   \n10            0.0        0.0         0.0           0.0       0.0   \n11            0.0        0.0         0.0           0.0       0.0   \n12            0.0        0.0         0.0           0.0       0.0   \n13            0.0        0.0         0.0           0.0       0.0   \n14            0.0        0.0         0.0           0.0       0.0   \n15            0.0        0.0         0.0           0.0       0.0   \n16            0.0        0.0         0.0           0.0       0.0   \n17            0.0        0.0         0.0           0.0       0.0   \n18            0.0        0.0         0.0           0.0       0.0   \n19            0.0        0.0         0.0           0.0       0.0   \n\n    u_brows_count  u_collect_count  u_add_count  u_buy_count  \n0             2.0              0.0          0.0          0.0  \n1             4.0              0.0          0.0          0.0  \n2             4.0              0.0          0.0          0.0  \n3             9.0              0.0          0.0          0.0  \n4             9.0              0.0          0.0          0.0  \n5             9.0              0.0          0.0          0.0  \n6             9.0              0.0          0.0          0.0  \n7             9.0              0.0          0.0          0.0  \n8             9.0              0.0          0.0          0.0  \n9             9.0              0.0          0.0          0.0  \n10            9.0              0.0          0.0          0.0  \n11            4.0              0.0          0.0          0.0  \n12           20.0              0.0          0.0          0.0  \n13           20.0              0.0          0.0          0.0  \n14           20.0              0.0          0.0          0.0  \n15           20.0              0.0          0.0          0.0  \n16           20.0              0.0          0.0          0.0  \n17           20.0              0.0          0.0          0.0  \n18           20.0              0.0          0.0          0.0  \n19           20.0              0.0          0.0          0.0  \n"
     ]
    }
   ],
   "source": [
    "#将特征合并\n",
    "feature_df=pd.merge(feature_df,u_feature_df,how='left',on=['user_id'])\n",
    "feature_df=feature_df.fillna(0)\n",
    "print feature_df.shape,feature_df.head(20)"
   ]
  },
  {
   "cell_type": "code",
   "execution_count": 47,
   "metadata": {},
   "outputs": [
    {
     "name": "stdout",
     "output_type": "stream",
     "text": [
      "(781, 3)\n         user_id    item_id  target\n2017     4860935  101081429       1\n3895    16476718  102217808       1\n4762    16401055  102716055       1\n8492   137515335  104821990       1\n9565   138589540  105209861       1\n10345   48594900  105573580       1\n11704   12073638  106304028       1\n13292   10634751  107142845       1\n16657  110948224  109229077       1\n20652  131395085  111161394       1\n20744   32840272  111163483       1\n22761  135378246  112189655       1\n22825   18249259  112214392       1\n31557  132755942   11653679       1\n32488  136948968  116886397       1\n34671  124299848  117991581       1\n37226  122688869  119315168       1\n44043  103490614  122771636       1\n45048  122357858  123339153       1\n46224  113579957  123601142       1\n"
     ]
    },
    {
     "name": "stderr",
     "output_type": "stream",
     "text": [
      "D:\\Anaconda2\\lib\\site-packages\\ipykernel\\__main__.py:3: SettingWithCopyWarning: \nA value is trying to be set on a copy of a slice from a DataFrame.\nTry using .loc[row_indexer,col_indexer] = value instead\n\nSee the caveats in the documentation: http://pandas.pydata.org/pandas-docs/stable/indexing.html#indexing-view-versus-copy\n  app.launch_new_instance()\n"
     ]
    }
   ],
   "source": [
    "#取18号数据\n",
    "target_df = df[(df.date == '2014-12-18') & (df.behavior_type == 4)]\n",
    "target_df['target']=1\n",
    "target_df=target_df.loc[:,['user_id','item_id','target']]\n",
    "print target_df.shape\n",
    "print target_df.head(20)\n"
   ]
  },
  {
   "cell_type": "code",
   "execution_count": 48,
   "metadata": {},
   "outputs": [
    {
     "name": "stdout",
     "output_type": "stream",
     "text": [
      "(29749, 16)\n    user_id      item_id  brows_count  collect_count  add_count  buy_count  \\\n0   59436.0  238861461.0          2.0            0.0        0.0        0.0   \n1   60723.0  202829025.0          2.0            0.0        0.0        0.0   \n2   60723.0  371933634.0          2.0            0.0        0.0        0.0   \n3  106362.0   38830684.0          1.0            0.0        0.0        0.0   \n4  106362.0  149517272.0          2.0            0.0        0.0        0.0   \n5  106362.0  200051509.0          1.0            0.0        0.0        0.0   \n6  106362.0  236862264.0          1.0            0.0        0.0        0.0   \n7  106362.0  308735138.0          1.0            0.0        0.0        0.0   \n8  106362.0  342598663.0          1.0            0.0        0.0        0.0   \n9  106362.0  364101379.0          1.0            0.0        0.0        0.0   \n\n   item_category  addandbuy  buyofbrows  buyofcollect  buyofadd  \\\n0            0.0        0.0         0.0           0.0       0.0   \n1            0.0        0.0         0.0           0.0       0.0   \n2            0.0        0.0         0.0           0.0       0.0   \n3            0.0        0.0         0.0           0.0       0.0   \n4            0.0        0.0         0.0           0.0       0.0   \n5            0.0        0.0         0.0           0.0       0.0   \n6            0.0        0.0         0.0           0.0       0.0   \n7            0.0        0.0         0.0           0.0       0.0   \n8            0.0        0.0         0.0           0.0       0.0   \n9            0.0        0.0         0.0           0.0       0.0   \n\n   u_brows_count  u_collect_count  u_add_count  u_buy_count  target  \n0            2.0              0.0          0.0          0.0     0.0  \n1            4.0              0.0          0.0          0.0     0.0  \n2            4.0              0.0          0.0          0.0     0.0  \n3            9.0              0.0          0.0          0.0     0.0  \n4            9.0              0.0          0.0          0.0     0.0  \n5            9.0              0.0          0.0          0.0     0.0  \n6            9.0              0.0          0.0          0.0     0.0  \n7            9.0              0.0          0.0          0.0     0.0  \n8            9.0              0.0          0.0          0.0     0.0  \n9            9.0              0.0          0.0          0.0     0.0  \n"
     ]
    }
   ],
   "source": [
    "feature_data=pd.merge(feature_df,target_df,how='left',on=['user_id','item_id']).drop_duplicates(['user_id','item_id'])\n",
    "print feature_data.shape\n",
    "feature_data=feature_data.fillna(0)\n",
    "feature_data=pd.DataFrame.round(feature_data,2)\n",
    "print feature_data.head(10)"
   ]
  },
  {
   "cell_type": "code",
   "execution_count": 49,
   "metadata": {},
   "outputs": [],
   "source": [
    "feature_data.to_csv('D:\\DAUM\\\\test.csv',index=False)"
   ]
  },
  {
   "cell_type": "code",
   "execution_count": null,
   "metadata": {},
   "outputs": [],
   "source": []
  }
 ],
 "metadata": {
  "kernelspec": {
   "display_name": "Python 2",
   "language": "python",
   "name": "python2"
  },
  "language_info": {
   "codemirror_mode": {
    "name": "ipython",
    "version": 2
   },
   "file_extension": ".py",
   "mimetype": "text/x-python",
   "name": "python",
   "nbconvert_exporter": "python",
   "pygments_lexer": "ipython2",
   "version": "2.7.6"
  }
 },
 "nbformat": 4,
 "nbformat_minor": 0
}
