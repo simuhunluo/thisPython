{
 "cells": [
  {
   "cell_type": "code",
   "execution_count": 3,
   "metadata": {
    "collapsed": true
   },
   "outputs": [],
   "source": [
    "# -*- coding: UTF-8 -*-\n",
    "from sklearn.cluster import KMeans\n",
    "import matplotlib.pyplot as plt\n",
    "import pandas as pd"
   ]
  },
  {
   "cell_type": "code",
   "execution_count": 55,
   "metadata": {},
   "outputs": [
    {
     "name": "stdout",
     "output_type": "stream",
     "text": [
      "   v_avg     a_avg        r_avg      v_var     a_var        r_var       v_a  \\\n0      6  0.218219  1209.078947  33.465922  0.154504  242766.4531  0.564121   \n\n        v_b      v_c       v_d       a_a       a_b       a_c       r_a  \\\n0  0.224947  0.16328  0.047652  0.594954  0.288718  0.116328  0.585144   \n\n        r_b       r_c  \n0  0.348283  0.066573  \n"
     ]
    }
   ],
   "source": [
    "tripData=pd.read_csv(\"K:\\\\thisPython\\datadig\\experiment6_kmeans\\\\trip.csv\");\n",
    "data=tripData.iloc[:,2:]\n",
    "print data.head(1)"
   ]
  },
  {
   "cell_type": "code",
   "execution_count": 56,
   "metadata": {},
   "outputs": [
    {
     "name": "stdout",
     "output_type": "stream",
     "text": [
      "KMeans(algorithm='auto', copy_x=True, init='k-means++', max_iter=300,\n    n_clusters=3, n_init=10, n_jobs=1, precompute_distances='auto',\n    random_state=None, tol=0.0001, verbose=0)\n"
     ]
    }
   ],
   "source": [
    "clf = KMeans(n_clusters=3)\n",
    "m = clf.fit(data)\n",
    "print m\n"
   ]
  },
  {
   "cell_type": "code",
   "execution_count": 57,
   "metadata": {},
   "outputs": [
    {
     "name": "stdout",
     "output_type": "stream",
     "text": [
      "1    54\n2    33\n0     4\ndtype: int64\n"
     ]
    }
   ],
   "source": [
    "# 1各类数量\n",
    "a = pd.Series(clf.labels_).value_counts()\n",
    "print a\n"
   ]
  },
  {
   "cell_type": "code",
   "execution_count": 60,
   "metadata": {},
   "outputs": [
    {
     "name": "stdout",
     "output_type": "stream",
     "text": [
      "         0         1            2          3         4              5   \\\n0  5.250000  1.073941  1068.375000  38.914793  1.753758  639407.213100   \n1  5.537037  0.277437  1168.842229  25.205092  0.314492  169896.171576   \n2  6.030303  0.311931  1178.091475  36.235528  0.540281  302047.587585   \n\n         6         7         8         9         10        11        12  \\\n0  0.788223  0.059943  0.143262  0.008572  0.241813  0.536941  0.221247   \n1  0.537669  0.248422  0.175849  0.038060  0.565810  0.286437  0.147753   \n2  0.530479  0.200719  0.204316  0.064485  0.531772  0.296036  0.172192   \n\n         13        14        15  \n0  0.803339  0.074829  0.121832  \n1  0.510406  0.447028  0.042566  \n2  0.517129  0.410236  0.072636  \n"
     ]
    }
   ],
   "source": [
    "# 2聚类中心\n",
    "r2 = pd.DataFrame(clf.cluster_centers_)\n",
    "print r2\n"
   ]
  },
  {
   "cell_type": "code",
   "execution_count": 63,
   "metadata": {},
   "outputs": [
    {
     "name": "stdout",
     "output_type": "stream",
     "text": [
      "   v_avg     a_avg        r_avg      v_var     a_var        r_var       v_a  \\\n0      6  0.218219  1209.078947  33.465922  0.154504  242766.4531  0.564121   \n\n        v_b      v_c       v_d       a_a       a_b       a_c       r_a  \\\n0  0.224947  0.16328  0.047652  0.594954  0.288718  0.116328  0.585144   \n\n        r_b       r_c  jllable  \n0  0.348283  0.066573        2  \n"
     ]
    }
   ],
   "source": [
    "#将每条数据聚成的类别（该列命名为jllable ）和聚类数据集进行合并，形成新的dataframe，命名为new_df ，并输出到本地，命名为new_df.csv。\n",
    "jllable=pd.DataFrame(clf.labels_,columns=['jllabel'])\n",
    "new_df=data.join(jllable)\n",
    "print new_df.head(1)\n",
    "new_df.to_csv(\"K:\\\\thisPython\\datadig\\experiment6_kmeans\\\\new_df.csv\")"
   ]
  },
  {
   "cell_type": "code",
   "execution_count": null,
   "metadata": {},
   "outputs": [],
   "source": []
  }
 ],
 "metadata": {
  "kernelspec": {
   "display_name": "Python 2",
   "language": "python",
   "name": "python2"
  },
  "language_info": {
   "codemirror_mode": {
    "name": "ipython",
    "version": 2
   },
   "file_extension": ".py",
   "mimetype": "text/x-python",
   "name": "python",
   "nbconvert_exporter": "python",
   "pygments_lexer": "ipython2",
   "version": "2.7.6"
  }
 },
 "nbformat": 4,
 "nbformat_minor": 0
}
