{
 "cells": [
  {
   "cell_type": "code",
   "execution_count": 77,
   "metadata": {
    "collapsed": false
   },
   "outputs": [
    {
     "name": "stdout",
     "output_type": "stream",
     "text": [
      "大小是\n22115\n"
     ]
    },
    {
     "name": "stdout",
     "output_type": "stream",
     "text": [
      "循环到头了\n无异常发生\n"
     ]
    },
    {
     "name": "stdout",
     "output_type": "stream",
     "text": [
      "          record_time  vehicle_speed  engine_rpm  trip  Time_diff  \\\n0 2015-07-01 13:26:51              0         811     1        0.0   \n1 2015-07-01 13:26:54              1         770     1        3.0   \n2 2015-07-01 13:27:21             53        2159     1       27.0   \n3 2015-07-01 13:27:52             61        1491     1       31.0   \n4 2015-07-01 13:28:26             68        1650     1       34.0   \n\n   ABS_Acceleration ABS_Acceleration_Flag Speed_Flag RPM_Flag  \n0          0.000000                     a          a        a  \n1          0.333333                     c          a        a  \n2          1.925926                     c          d        c  \n3          0.258065                     b          d        b  \n4          0.205882                     b          d        b  \n             record_time  vehicle_speed  engine_rpm  trip  Time_diff  \\\n4418 2015-07-31 18:29:25             19         909    92       34.0   \n4419 2015-07-31 18:29:59             24        1595    92       34.0   \n4420 2015-07-31 18:30:33              2         799    92       34.0   \n4421 2015-07-31 18:31:07              0         757    92       34.0   \n4422 2015-07-31 18:31:16              0           0    92        9.0   \n\n      ABS_Acceleration ABS_Acceleration_Flag Speed_Flag RPM_Flag  \n4418          0.117647                     b          d        a  \n4419          0.147059                     b          d        b  \n4420          0.647059                     c          a        a  \n4421          0.058824                     a          a        a  \n4422          0.000000                     a          a        a  \n"
     ]
    }
   ],
   "source": [
    "# -*- coding: UTF-8 -*-\n",
    "\"\"\"\n",
    "作者:scc\n",
    "时间：2017年   11 月  3 日\n",
    "实现功能：第四次实训-数据库的基本操作\n",
    "\"\"\"\n",
    "\n",
    "import MySQLdb\n",
    "import pandas as pd\n",
    "import numpy as np\n",
    "import datetime\n",
    "\n",
    "db = MySQLdb.connect(\"localhost\", \"root\", \"123qwe\", \"mytrip\")\n",
    "cursor = db.cursor()\n",
    "sql = \"select t.record_time,max(t.vehicle_speed),t.engine_rpm from tb_iov_device_obd_41030402427 t where Device_ID='41030402427' GROUP BY t.record_time\"\n",
    "cursor.execute(sql)\n",
    "results = cursor.fetchall()\n",
    "results = pd.DataFrame(list(results), columns=['record_time', 'vehicle_speed', 'engine_rpm'])\n",
    "i = 1\n",
    "trip = 1\n",
    "results['trip'] = 1\n",
    "results['Time_diff'] = 0\n",
    "\n",
    "print \"大小是\"\n",
    "size = results.size / 5\n",
    "print results.size\n",
    "try:\n",
    "    while i < size:\n",
    "        t1 = str(results.iloc[i - 1, 0])\n",
    "        t2 = str(results.iloc[i, 0])\n",
    "        date_time1 = datetime.datetime.strptime(t1, '%Y-%m-%d %H:%M:%S')\n",
    "        date_time2 = datetime.datetime.strptime(t2, '%Y-%m-%d %H:%M:%S')\n",
    "        dif = (date_time2 - date_time1).total_seconds()\n",
    "        if dif > 600:\n",
    "            trip = trip + 1\n",
    "        if dif > 0:\n",
    "            results.loc[i, 'trip'] = trip\n",
    "            results.loc[i, 'Time_diff'] = dif\n",
    "        i += 1\n",
    "    else:\n",
    "        print \"循环到头了\"\n",
    "\n",
    "except IndexError:\n",
    "    print \"越界错误：\"\n",
    "    print i\n",
    "else:\n",
    "    print \"无异常发生\"\n",
    "\n",
    "i = 0\n",
    "while i < results.size / 5:\n",
    "    if results.loc[i, 'trip'] < 0:\n",
    "        results.loc[i, 'trip'] = 'BAD'\n",
    "    i += 1\n",
    "\n",
    "a = 0\n",
    "b = 1\n",
    "c = 2\n",
    "# array = [0, 0, 0]\n",
    "# ABS_Acceleration_Classify = [array] * (max(results['trip']) + 1)\n",
    "ABS_Acceleration_Classify =[[0 for x in range(3)] for y in range(max(results['trip']) + 1)]\n",
    "i = 1\n",
    "j = 1\n",
    "results['ABS_Acceleration'] = 0\n",
    "results['ABS_Acceleration_Flag'] = 0\n",
    "results.loc[0, 'ABS_Acceleration_Flag'] = 'a'\n",
    "while i < results.size / 7:\n",
    "    if results.loc[i, 'trip'] != j:\n",
    "        j = results.loc[i, 'trip']\n",
    "    spped_dif = results.loc[i, 'vehicle_speed'] - results.loc[i - 1, 'vehicle_speed']\n",
    "    Acceleration = spped_dif / results.loc[i, 'Time_diff']\n",
    "    ABS_Acceleration = abs(Acceleration)\n",
    "    results.loc[i, 'ABS_Acceleration'] = ABS_Acceleration\n",
    "    if ABS_Acceleration < 0.1:\n",
    "        results.loc[i, 'ABS_Acceleration_Flag'] = 'a'\n",
    "        ABS_Acceleration_Classify[j][a] += 1\n",
    "    elif 0.1 <= ABS_Acceleration < 0.3:\n",
    "        results.loc[i, 'ABS_Acceleration_Flag'] = 'b'\n",
    "        ABS_Acceleration_Classify[j][b] += 1\n",
    "    elif ABS_Acceleration >= 0.3:\n",
    "        results.loc[i, 'ABS_Acceleration_Flag'] = 'c'\n",
    "        ABS_Acceleration_Classify[j][c] += 1\n",
    "    i += 1\n",
    "\n",
    "d = 3\n",
    "# array = [0, 0, 0, 0]\n",
    "# Speed_Classify = [array] * (max(results['trip']) + 1)\n",
    "Speed_Classify =[[0 for x in range(4)] for y in range(max(results['trip']) + 1)]\n",
    "results['Speed_Flag'] = 0\n",
    "i = 0\n",
    "j = 1\n",
    "while i < results.size / 8:\n",
    "    if results.loc[i, 'trip'] != j:\n",
    "        j = results.loc[i, 'trip']\n",
    "    if results.loc[i, 'vehicle_speed'] < 5.6:\n",
    "        results.loc[i, 'Speed_Flag'] = 'a'\n",
    "        Speed_Classify[j][a] += 1\n",
    "    if 5.6 <= results.loc[i, 'vehicle_speed'] < 11.1:\n",
    "        results.loc[i, 'Speed_Flag'] = 'b'\n",
    "        Speed_Classify[j][b] += 1\n",
    "    if 11.1 <= results.loc[i, 'vehicle_speed'] < 16.7:\n",
    "        results.loc[i, 'Speed_Flag'] = 'c'\n",
    "        Speed_Classify[j][c] += 1\n",
    "    if 16.7 <= results.loc[i, 'vehicle_speed']:\n",
    "        results.loc[i, 'Speed_Flag'] = 'd'\n",
    "        Speed_Classify[j][d] += 1\n",
    "    i += 1\n",
    "\n",
    "results['RPM_Flag'] = 0\n",
    "# array = [0, 0, 0]\n",
    "# RPM_Classify = [array] * (max(results['trip']) + 1)\n",
    "RPM_Classify =[[0 for x in range(3)] for y in range(max(results['trip']) + 1)]\n",
    "i = 0\n",
    "j = 1\n",
    "while i < results.size / 9:\n",
    "    if results.loc[i, 'trip'] != j:\n",
    "        j = results.loc[i, 'trip']\n",
    "    if results.loc[i, 'engine_rpm'] < 1000:\n",
    "        results.loc[i, 'RPM_Flag'] = 'a'\n",
    "        RPM_Classify[j][a] += 1\n",
    "    if 1000 <= results.loc[i, 'engine_rpm'] < 2000:\n",
    "        results.loc[i, 'RPM_Flag'] = 'b'\n",
    "        RPM_Classify[j][b] += 1\n",
    "    if 2000 <= results.loc[i, 'engine_rpm']:\n",
    "        results.loc[i, 'RPM_Flag'] = 'c'\n",
    "        RPM_Classify[j][c] += 1\n",
    "    i += 1\n",
    "\n",
    "print results.head(5)\n",
    "print results.tail(5)\n"
   ]
  },
  {
   "cell_type": "code",
   "execution_count": 78,
   "metadata": {},
   "outputs": [
    {
     "name": "stdout",
     "output_type": "stream",
     "text": [
      "trip1的平均速度\n16.3404255319\n"
     ]
    }
   ],
   "source": [
    "j = 1\n",
    "i = 0\n",
    "trip_v = np.zeros(max(results['trip']) + 1)\n",
    "trip_a = np.zeros(max(results['trip']) + 1)\n",
    "trip_r = np.zeros(max(results['trip']) + 1)\n",
    "num = np.zeros(max(results['trip']) + 1)\n",
    "while i < results.size / 9:\n",
    "    if results.loc[i, 'trip'] != j:\n",
    "        j = results.loc[i, 'trip']\n",
    "    if results.loc[i, 'trip'] == j:\n",
    "        trip_v[j] += results.loc[i, 'vehicle_speed']\n",
    "        trip_a[j] += results.loc[i, 'ABS_Acceleration']\n",
    "        trip_r[j] += results.loc[i, 'engine_rpm']\n",
    "        num[j] += 1\n",
    "    i += 1\n",
    "\n",
    "print \"trip1的平均速度\"\n",
    "print trip_v[92] / num[92]\n",
    "i = 1"
   ]
  },
  {
   "cell_type": "code",
   "execution_count": 53,
   "metadata": {},
   "outputs": [
    {
     "name": "stdout",
     "output_type": "stream",
     "text": [
      "0.0\n93\n"
     ]
    }
   ],
   "source": [
    ""
   ]
  },
  {
   "cell_type": "code",
   "execution_count": null,
   "metadata": {},
   "outputs": [],
   "source": [
    "#计算方差\n",
    "trip_v_var = np.zeros(max(results['trip']) + 1)\n",
    "trip_a_var = np.zeros(max(results['trip']) + 1)\n",
    "trip_r_var = np.zeros(max(results['trip']) + 1)\n",
    "i = 1\n",
    "j = 1\n",
    "while i < num.size:\n",
    "    trip_v_var[i] = round(np.var(results.loc[np.sum(num[0:i]):np.sum(num[0:i + 1]) - 1, 'vehicle_speed']),2)\n",
    "    trip_a_var[i] = round(np.var(results.loc[np.sum(num[0:i]):np.sum(num[0:i + 1]) - 1, 'ABS_Acceleration']),2)\n",
    "    trip_r_var[i] = round(np.var(results.loc[np.sum(num[0:i]):np.sum(num[0:i + 1]) - 1, 'engine_rpm']),2)\n",
    "    i += 1\n",
    "\n",
    "print trip_v_var[92]\n",
    "print trip_a_var[92]\n",
    "print trip_r_var[92]\n"
   ]
  },
  {
   "cell_type": "code",
   "execution_count": 84,
   "metadata": {},
   "outputs": [
    {
     "name": "stdout",
     "output_type": "stream",
     "text": [
      "   trip  v_avg   v_std  v_a  v_b  v_c  v_d  a_avg  a_std  a_a  a_b  a_c  \\\n1     1  23.49  425.99   12    4    3   20   0.77   1.92    9    5   24   \n2     2  13.47  305.25   20    1    2   11   1.07   3.50   13    2   19   \n3     3  18.07  304.29   11    1    2   13   0.42   0.15    7    6   14   \n4     4  26.32  535.20   33   10   14   79   0.66   4.14   34   45   57   \n5     5  32.67  689.07   34    3    7   74   0.91   5.62   36   20   62   \n\n     r_avg      r_std  r_a  r_b  r_c  \n1  1178.08  266839.66   19   17    3  \n2  1032.88  206875.81   23    9    2  \n3  1125.22  256538.91   16    9    2  \n4  1166.75  266764.83   61   67    8  \n5  1300.07  318495.45   39   70    9  \n"
     ]
    }
   ],
   "source": [
    "n=num.size\n",
    "Speed_Classify=pd.DataFrame(Speed_Classify)\n",
    "ABS_Acceleration_Classify=pd.DataFrame(ABS_Acceleration_Classify)\n",
    "RPM_Classify=pd.DataFrame(RPM_Classify)\n",
    "\n",
    "newtrip = pd.DataFrame({'trip':np.arange(1,93,1),\n",
    "                   'v_avg':(trip_v/num)[1:n],\n",
    "                   'v_std':trip_v_var[1:n] ,\n",
    "                   'v_a':Speed_Classify.iloc[1:n,a],\n",
    "                   'v_b':Speed_Classify.iloc[1:n,b],\n",
    "                   'v_c':Speed_Classify.iloc[1:n,c],\n",
    "                   'v_d':Speed_Classify.iloc[1:n,d],\n",
    "                   'a_avg':(trip_a/num)[1:n],\n",
    "                   'a_std':trip_a_var[1:n] ,\n",
    "                   'a_a':ABS_Acceleration_Classify.iloc[1:n,a],\n",
    "                   'a_b':ABS_Acceleration_Classify.iloc[1:n,b],\n",
    "                   'a_c':ABS_Acceleration_Classify.iloc[1:n,c],\n",
    "                   'r_avg':(trip_r/num)[1:n],\n",
    "                   'r_std':trip_r_var[1:n] ,\n",
    "                   'r_a':RPM_Classify.iloc[1:n,a],\n",
    "                   'r_b':RPM_Classify.iloc[1:n,b],\n",
    "                   'r_c':RPM_Classify.iloc[1:n,c]\n",
    "                   },columns=['trip','v_avg','v_std','v_a','v_b','v_c','v_d',\n",
    "                              'a_avg','a_std','a_a','a_b','a_c',\n",
    "                              'r_avg','r_std','r_a','r_b','r_c'])\n",
    "# ,'v_avg':(trip_v/num)[1:num.size]\n",
    "# print (trip_v/num)[1:num.size]\n",
    "# ,'v_a':Speed_Classify\n",
    "# ,columns={'trip','v_avg','v_std','v_a','v_b','v_c','v_d'}\n",
    "newtrip=newtrip.round({'v_avg':2,'a_avg':2,'r_avg':2})\n",
    "print newtrip.head()\n",
    "newtrip.to_csv(\"newtrip.csv\")\n",
    "\n"
   ]
  },
  {
   "cell_type": "code",
   "execution_count": null,
   "metadata": {},
   "outputs": [],
   "source": []
  }
 ],
 "metadata": {
  "kernelspec": {
   "display_name": "Python 2",
   "language": "python",
   "name": "python2"
  },
  "language_info": {
   "codemirror_mode": {
    "name": "ipython",
    "version": 2
   },
   "file_extension": ".py",
   "mimetype": "text/x-python",
   "name": "python",
   "nbconvert_exporter": "python",
   "pygments_lexer": "ipython2",
   "version": "2.7.6"
  }
 },
 "nbformat": 4,
 "nbformat_minor": 0
}
