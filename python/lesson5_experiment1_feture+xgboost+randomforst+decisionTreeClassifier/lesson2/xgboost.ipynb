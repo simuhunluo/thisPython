{
 "cells": [
  {
   "cell_type": "code",
   "execution_count": 1,
   "metadata": {
    "collapsed": true
   },
   "outputs": [],
   "source": [
    "import xgboost as xgb \n",
    "import pandas as pd"
   ]
  },
  {
   "cell_type": "code",
   "execution_count": 21,
   "metadata": {},
   "outputs": [],
   "source": [
    "test_data = pd.read_csv(\"K:\\datadig222\\datadig4\\lesson2\\\\test.csv\")\n",
    "train_data = pd.read_csv(\"K:\\datadig222\\datadig4\\lesson2\\\\train.csv\")"
   ]
  },
  {
   "cell_type": "code",
   "execution_count": 22,
   "metadata": {},
   "outputs": [],
   "source": [
    "X_train = train_data.iloc[:, 2:15]\n",
    "y_train = train_data.loc[:, ['target']]\n",
    "X_test = test_data.iloc[:,2:15]\n",
    "y_test = test_data.loc[:, ['target']]   "
   ]
  },
  {
   "cell_type": "code",
   "execution_count": 23,
   "metadata": {},
   "outputs": [],
   "source": [
    "param = {'max_depth': 2, 'eta': 1, 'silent': 1, 'objective': 'binary:logistic'}\n",
    "xlf = xgb.XGBClassifier(**param)"
   ]
  },
  {
   "cell_type": "code",
   "execution_count": 24,
   "metadata": {},
   "outputs": [
    {
     "name": "stderr",
     "output_type": "stream",
     "text": [
      "D:\\Anaconda2\\lib\\site-packages\\sklearn\\preprocessing\\label.py:108: DataConversionWarning: A column-vector y was passed when a 1d array was expected. Please change the shape of y to (n_samples, ), for example using ravel().\n  y = column_or_1d(y, warn=True)\n"
     ]
    },
    {
     "data": {
      "text/plain": [
       "XGBClassifier(base_score=0.5, booster='gbtree', colsample_bylevel=1,\n       colsample_bytree=1, eta=1, gamma=0, learning_rate=0.1,\n       max_delta_step=0, max_depth=2, min_child_weight=1, missing=None,\n       n_estimators=100, n_jobs=1, nthread=None,\n       objective='binary:logistic', random_state=0, reg_alpha=0,\n       reg_lambda=1, scale_pos_weight=1, seed=None, silent=1, subsample=1)"
      ]
     },
     "execution_count": 24,
     "metadata": {},
     "output_type": "execute_result"
    }
   ],
   "source": [
    "xlf.fit(X_train, y_train)"
   ]
  },
  {
   "cell_type": "code",
   "execution_count": 12,
   "metadata": {},
   "outputs": [
    {
     "data": {
      "text/plain": [
       "0.95478839624861345"
      ]
     },
     "execution_count": 12,
     "metadata": {},
     "output_type": "execute_result"
    }
   ],
   "source": [
    "xlf.score(X_test, y_test)"
   ]
  },
  {
   "cell_type": "code",
   "execution_count": 13,
   "metadata": {},
   "outputs": [
    {
     "name": "stdout",
     "output_type": "stream",
     "text": [
      "       pre\n0        0\n1        0\n2        0\n3        0\n4        0\n5        0\n6        0\n7        0\n8        0\n9        0\n10       0\n11       0\n12       1\n13       0\n14       1\n15       1\n16       0\n17       1\n18       1\n19       0\n20       0\n21       0\n22       1\n23       0\n24       0\n25       0\n26       0\n27       0\n28       0\n29       0\n...    ...\n29719    0\n29720    0\n29721    0\n29722    0\n29723    0\n29724    0\n29725    0\n29726    0\n29727    0\n29728    0\n29729    0\n29730    0\n29731    0\n29732    0\n29733    0\n29734    0\n29735    0\n29736    0\n29737    0\n29738    0\n29739    0\n29740    0\n29741    0\n29742    0\n29743    0\n29744    0\n29745    0\n29746    0\n29747    0\n29748    0\n\n[29749 rows x 1 columns]\n"
     ]
    }
   ],
   "source": [
    "pre = xlf.predict(X_test)\n",
    "pre=pd.DataFrame(pre,columns=[\"pre\"])\n",
    "print pre"
   ]
  },
  {
   "cell_type": "code",
   "execution_count": 14,
   "metadata": {},
   "outputs": [
    {
     "name": "stdout",
     "output_type": "stream",
     "text": [
      "   user_id    item_id  brows_count  collect_count  add_count  buy_count  \\\n0    59436  238861461            2              0          0          0   \n1    60723  202829025            2              0          0          0   \n2    60723  371933634            2              0          0          0   \n3   106362   38830684            1              0          0          0   \n4   106362  149517272            2              0          0          0   \n5   106362  200051509            1              0          0          0   \n6   106362  236862264            1              0          0          0   \n7   106362  308735138            1              0          0          0   \n8   106362  342598663            1              0          0          0   \n9   106362  364101379            1              0          0          0   \n\n   item_category  addandbuy  buyofbrows  buyofcollect  buyofadd  \\\n0              0          0         0.0             0       0.0   \n1              0          0         0.0             0       0.0   \n2              0          0         0.0             0       0.0   \n3              0          0         0.0             0       0.0   \n4              0          0         0.0             0       0.0   \n5              0          0         0.0             0       0.0   \n6              0          0         0.0             0       0.0   \n7              0          0         0.0             0       0.0   \n8              0          0         0.0             0       0.0   \n9              0          0         0.0             0       0.0   \n\n   u_brows_count  u_collect_count  u_add_count  u_buy_count  target  pre  \n0              2                0            0            0       0    0  \n1              4                0            0            0       0    0  \n2              4                0            0            0       0    0  \n3              9                0            0            0       0    0  \n4              9                0            0            0       0    0  \n5              9                0            0            0       0    0  \n6              9                0            0            0       0    0  \n7              9                0            0            0       0    0  \n8              9                0            0            0       0    0  \n9              9                0            0            0       0    0  \n"
     ]
    }
   ],
   "source": [
    "test_data['pre'] = pre\n",
    "print test_data.head(10)"
   ]
  },
  {
   "cell_type": "code",
   "execution_count": 15,
   "metadata": {},
   "outputs": [
    {
     "name": "stdout",
     "output_type": "stream",
     "text": [
      "122\n"
     ]
    }
   ],
   "source": [
    "#target中1的个数\n",
    "target_n = test_data[test_data['target'] == 1].shape[0]\n",
    "print target_n"
   ]
  },
  {
   "cell_type": "code",
   "execution_count": 16,
   "metadata": {},
   "outputs": [
    {
     "name": "stdout",
     "output_type": "stream",
     "text": [
      "    user_id    item_id  brows_count  collect_count  add_count  buy_count  \\\n0     59436  238861461            2              0          0          0   \n1     60723  202829025            2              0          0          0   \n2     60723  371933634            2              0          0          0   \n3    106362   38830684            1              0          0          0   \n4    106362  149517272            2              0          0          0   \n5    106362  200051509            1              0          0          0   \n6    106362  236862264            1              0          0          0   \n7    106362  308735138            1              0          0          0   \n8    106362  342598663            1              0          0          0   \n9    106362  364101379            1              0          0          0   \n10   106362  377408757            1              0          0          0   \n11   137907  166251701            4              0          0          0   \n12   161481   14285814            2              0          1          0   \n13   161481   19246429            2              0          0          0   \n14   161481   25651335            6              0          1          0   \n15   161481  155199637            4              0          1          0   \n16   161481  215338463            1              0          0          0   \n17   161481  235875168            1              0          1          0   \n18   161481  383479841            2              0          1          0   \n19   161481  399814334            2              0          0          0   \n\n    item_category  addandbuy  buyofbrows  buyofcollect  buyofadd  \\\n0               0          0         0.0             0       0.0   \n1               0          0         0.0             0       0.0   \n2               0          0         0.0             0       0.0   \n3               0          0         0.0             0       0.0   \n4               0          0         0.0             0       0.0   \n5               0          0         0.0             0       0.0   \n6               0          0         0.0             0       0.0   \n7               0          0         0.0             0       0.0   \n8               0          0         0.0             0       0.0   \n9               0          0         0.0             0       0.0   \n10              0          0         0.0             0       0.0   \n11              0          0         0.0             0       0.0   \n12              0          0         0.0             0       0.0   \n13              0          0         0.0             0       0.0   \n14              0          0         0.0             0       0.0   \n15              0          0         0.0             0       0.0   \n16              0          0         0.0             0       0.0   \n17              0          0         0.0             0       0.0   \n18              0          0         0.0             0       0.0   \n19              0          0         0.0             0       0.0   \n\n    u_brows_count  u_collect_count  u_add_count  u_buy_count  target  pre  \n0               2                0            0            0       0    0  \n1               4                0            0            0       0    0  \n2               4                0            0            0       0    0  \n3               9                0            0            0       0    0  \n4               9                0            0            0       0    0  \n5               9                0            0            0       0    0  \n6               9                0            0            0       0    0  \n7               9                0            0            0       0    0  \n8               9                0            0            0       0    0  \n9               9                0            0            0       0    0  \n10              9                0            0            0       0    0  \n11              4                0            0            0       0    0  \n12             20                0            0            0       0    1  \n13             20                0            0            0       0    0  \n14             20                0            0            0       0    1  \n15             20                0            0            0       0    1  \n16             20                0            0            0       0    0  \n17             20                0            0            0       0    1  \n18             20                0            0            0       0    1  \n19             20                0            0            0       0    0  \n"
     ]
    }
   ],
   "source": [
    "print test_data.head(20)"
   ]
  },
  {
   "cell_type": "code",
   "execution_count": 17,
   "metadata": {},
   "outputs": [
    {
     "name": "stdout",
     "output_type": "stream",
     "text": [
      "1323\n"
     ]
    }
   ],
   "source": [
    "#pre中1的个数\n",
    "pre_n = test_data[test_data['pre'] >= 0.5].shape[0]\n",
    "print pre_n"
   ]
  },
  {
   "cell_type": "code",
   "execution_count": 18,
   "metadata": {},
   "outputs": [
    {
     "name": "stdout",
     "output_type": "stream",
     "text": [
      "50\n"
     ]
    }
   ],
   "source": [
    "#pre==1并且target==1的个数\n",
    "pre_target_n=test_data[(test_data['pre'] >= 0.5)&(test_data['target'] == 1)].shape[0]\n",
    "print pre_target_n"
   ]
  },
  {
   "cell_type": "code",
   "execution_count": 19,
   "metadata": {},
   "outputs": [
    {
     "name": "stdout",
     "output_type": "stream",
     "text": [
      "0.177713037145\n"
     ]
    }
   ],
   "source": [
    "target_n = float(target_n)\n",
    "pre_n = float(pre_n)\n",
    "pre_target_n = float(pre_target_n)\n",
    "precision = target_n / pre_n\n",
    "recall = target_n / pre_target_n\n",
    "F1 = 2 * precision * recall / (precision + recall)\n",
    "print F1"
   ]
  },
  {
   "cell_type": "code",
   "execution_count": null,
   "metadata": {},
   "outputs": [],
   "source": []
  }
 ],
 "metadata": {
  "kernelspec": {
   "display_name": "Python 2",
   "language": "python",
   "name": "python2"
  },
  "language_info": {
   "codemirror_mode": {
    "name": "ipython",
    "version": 2
   },
   "file_extension": ".py",
   "mimetype": "text/x-python",
   "name": "python",
   "nbconvert_exporter": "python",
   "pygments_lexer": "ipython2",
   "version": "2.7.6"
  }
 },
 "nbformat": 4,
 "nbformat_minor": 0
}
