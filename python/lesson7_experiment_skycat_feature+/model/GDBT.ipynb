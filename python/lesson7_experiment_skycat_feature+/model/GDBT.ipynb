{
 "cells": [
  {
   "cell_type": "code",
   "execution_count": 22,
   "metadata": {
    "collapsed": true
   },
   "outputs": [],
   "source": [
    "# -*- coding: UTF-8 -*-\n",
    "\"\"\"\n",
    "作者:scc\n",
    "时间：2017年    月   日\n",
    "实现功能：\n",
    "\"\"\"\n",
    "import numpy as np\n",
    "from sklearn.ensemble import GradientBoostingRegressor\n",
    "import pandas as pd\n",
    "\n",
    "test_data = pd\\\n",
    "    .read_csv(\"K:\\\\thisPython\\python\\lesson7_experiment_skycat_feature+\\model\\PreFeatureTag.csv\")\n",
    "train_data = pd\\\n",
    "    .read_csv(\"K:\\\\thisPython\\python\\lesson7_experiment_skycat_feature+\\model\\TrainFeatureTag.csv\")\n",
    "X_train = train_data.iloc[:, 2:80]\n",
    "y_train = train_data.loc[:, ['tag']]\n",
    "X_test = test_data.iloc[:, 2:80]\n",
    "y_test = test_data.loc[:, ['tag']]\n",
    "\n",
    "gbdt = GradientBoostingRegressor(\n",
    "    loss='ls'\n",
    "    , learning_rate=0.1\n",
    "    , n_estimators=100\n",
    "    , subsample=1\n",
    "    , min_samples_split=2\n",
    "    , min_samples_leaf=1\n",
    "    , max_depth=3\n",
    "    , init=None\n",
    "    , random_state=None\n",
    "    , max_features=None\n",
    "    , alpha=0.9\n",
    "    , verbose=0\n",
    "    , max_leaf_nodes=None\n",
    "    , warm_start=False\n",
    ")\n",
    "gbdt.fit(X_train, y_train)\n",
    "pred = gbdt.predict(X_test)"
   ]
  },
  {
   "cell_type": "code",
   "execution_count": 23,
   "metadata": {},
   "outputs": [
    {
     "name": "stdout",
     "output_type": "stream",
     "text": [
      "(31425, 1)\n            pre\n0      0.013683\n1      0.010116\n2      0.011321\n3      0.015347\n4      0.027634\n5      0.012110\n6      0.015275\n7      0.039437\n8      0.012251\n9      0.006827\n10     0.011321\n11     0.022062\n12     0.022945\n13     0.012251\n14     0.023675\n15     0.009945\n16     0.011390\n17     0.006187\n18     0.011856\n19     0.011617\n20     0.361036\n21     0.030108\n22     0.019255\n23     1.044913\n24     0.012753\n25     0.165168\n26     0.022402\n27     0.012251\n28     0.028379\n29     0.012030\n...         ...\n31395  0.002825\n31396  0.002825\n31397  0.002825\n31398  0.002825\n31399  0.002825\n31400  0.002825\n31401  0.002825\n31402  0.002825\n31403  0.002825\n31404  0.002825\n31405  0.002825\n31406  0.002825\n31407  0.002825\n31408  0.002825\n31409  0.002825\n31410  0.002825\n31411  0.002825\n31412  0.002825\n31413  0.002825\n31414  0.002825\n31415  0.002825\n31416  0.002825\n31417  0.002825\n31418  0.002825\n31419  0.002825\n31420  0.002825\n31421  0.002825\n31422  0.002825\n31423  0.002825\n31424  0.002825\n\n[31425 rows x 1 columns]\n"
     ]
    }
   ],
   "source": [
    "pred=pd.DataFrame(pred,columns=['pre'])\n",
    "print pred.shape\n",
    "print pred"
   ]
  },
  {
   "cell_type": "code",
   "execution_count": 24,
   "metadata": {},
   "outputs": [],
   "source": [
    "# print pred"
   ]
  },
  {
   "cell_type": "code",
   "execution_count": 25,
   "metadata": {},
   "outputs": [
    {
     "name": "stdout",
     "output_type": "stream",
     "text": [
      "(31425, 82)\n242\n28\n7\n0.0518518518519\n"
     ]
    }
   ],
   "source": [
    "test_data['pre'] = pred\n",
    "print test_data.shape\n",
    "# print test_data\n",
    "#tag为1的个数\n",
    "tag_n = test_data[test_data['tag'] == 1].shape[0]\n",
    "print tag_n\n",
    "# #pre中1的个数\n",
    "pre_n = test_data[test_data['pre'] >=0.5].shape[0]\n",
    "print pre_n\n",
    "#pre==1并且tag==1的个数\n",
    "pre_tag_n=test_data[(test_data['pre'] >= 0.5)&(test_data['tag'] == 1)].shape[0]\n",
    "print pre_tag_n\n",
    "tag_n = float(tag_n)\n",
    "pre_n = float(pre_n)\n",
    "pre_tag_n = float(pre_tag_n)\n",
    "precision = pre_tag_n / pre_n\n",
    "recall = pre_tag_n/ tag_n \n",
    "F1 = 2 * precision * recall / (precision + recall)\n",
    "print F1"
   ]
  },
  {
   "cell_type": "code",
   "execution_count": 5,
   "metadata": {},
   "outputs": [],
   "source": []
  },
  {
   "cell_type": "code",
   "execution_count": null,
   "metadata": {},
   "outputs": [],
   "source": []
  }
 ],
 "metadata": {
  "kernelspec": {
   "display_name": "Python 2",
   "language": "python",
   "name": "python2"
  },
  "language_info": {
   "codemirror_mode": {
    "name": "ipython",
    "version": 2
   },
   "file_extension": ".py",
   "mimetype": "text/x-python",
   "name": "python",
   "nbconvert_exporter": "python",
   "pygments_lexer": "ipython2",
   "version": "2.7.6"
  }
 },
 "nbformat": 4,
 "nbformat_minor": 0
}
