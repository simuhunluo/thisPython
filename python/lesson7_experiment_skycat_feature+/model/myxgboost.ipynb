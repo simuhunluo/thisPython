{
 "cells": [
  {
   "cell_type": "code",
   "execution_count": 1,
   "metadata": {
    "collapsed": true
   },
   "outputs": [],
   "source": [
    "import xgboost as xgb \n",
    "import pandas as pd"
   ]
  },
  {
   "cell_type": "code",
   "execution_count": 2,
   "metadata": {},
   "outputs": [],
   "source": [
    "test_data = pd.read_csv(\"K:\\\\thisPython\\python\\lesson7_experiment_skycat_feature+\\\\testDataSet.csv\")\n",
    "train_data = pd.read_csv(\"K:\\\\thisPython\\python\\lesson7_experiment_skycat_feature+\\\\trainDataSet.csv\")"
   ]
  },
  {
   "cell_type": "code",
   "execution_count": 3,
   "metadata": {},
   "outputs": [],
   "source": [
    "X_train = train_data.iloc[:, 2:64]\n",
    "y_train = train_data.loc[:, ['tag']]\n",
    "X_test = test_data.iloc[:,2:64]\n",
    "y_test = test_data.loc[:, ['tag']]"
   ]
  },
  {
   "cell_type": "code",
   "execution_count": 4,
   "metadata": {},
   "outputs": [],
   "source": [
    "xlf = xgb.XGBClassifier(max_depth=10,\n",
    "                        learning_rate=0.1,\n",
    "                        n_estimators=5,\n",
    "                        silent=True,\n",
    "                        objective='reg:linear',\n",
    "                        nthread=-1,\n",
    "                        gamma=0,\n",
    "                        min_child_weight=1,\n",
    "                        max_delta_step=0,\n",
    "                        subsample=0.85,\n",
    "                        colsample_bytree=0.7,\n",
    "                        colsample_bylevel=1,\n",
    "                        reg_alpha=0,\n",
    "                        reg_lambda=1,\n",
    "                        scale_pos_weight=1,\n",
    "                        seed=1440,\n",
    "                        missing=None)"
   ]
  },
  {
   "cell_type": "code",
   "execution_count": 5,
   "metadata": {},
   "outputs": [
    {
     "name": "stderr",
     "output_type": "stream",
     "text": [
      "D:\\Anaconda2\\lib\\site-packages\\sklearn\\preprocessing\\label.py:95: DataConversionWarning: A column-vector y was passed when a 1d array was expected. Please change the shape of y to (n_samples, ), for example using ravel().\n  y = column_or_1d(y, warn=True)\nD:\\Anaconda2\\lib\\site-packages\\sklearn\\preprocessing\\label.py:128: DataConversionWarning: A column-vector y was passed when a 1d array was expected. Please change the shape of y to (n_samples, ), for example using ravel().\n  y = column_or_1d(y, warn=True)\n"
     ]
    },
    {
     "data": {
      "text/plain": [
       "XGBClassifier(base_score=0.5, booster='gbtree', colsample_bylevel=1,\n       colsample_bytree=0.7, gamma=0, learning_rate=0.1, max_delta_step=0,\n       max_depth=10, min_child_weight=1, missing=None, n_estimators=5,\n       n_jobs=1, nthread=-1, objective='reg:linear', random_state=0,\n       reg_alpha=0, reg_lambda=1, scale_pos_weight=1, seed=1440,\n       silent=True, subsample=0.85)"
      ]
     },
     "execution_count": 5,
     "metadata": {},
     "output_type": "execute_result"
    }
   ],
   "source": [
    "xlf.fit(X_train, y_train)"
   ]
  },
  {
   "cell_type": "code",
   "execution_count": 7,
   "metadata": {},
   "outputs": [
    {
     "name": "stdout",
     "output_type": "stream",
     "text": [
      "   user_brand_train_feature_data_1_clickCount  \\\n0                                         0.0   \n\n   user_brand_train_feature_data_1_buyCount  \\\n0                                       0.0   \n\n   user_brand_train_feature_data_1_collectCount  \\\n0                                           0.0   \n\n   user_brand_train_feature_data_1_cartCount  \\\n0                                        0.0   \n\n   user_brand_train_feature_data_7_clickCount  \\\n0                                         0.0   \n\n   user_brand_train_feature_data_7_buyCount  \\\n0                                       0.0   \n\n   user_brand_train_feature_data_7_collectCount  \\\n0                                           0.0   \n\n   user_brand_train_feature_data_7_cartCount  \\\n0                                        0.0   \n\n   user_brand_train_feature_data_14_clickCount  \\\n0                                          0.0   \n\n   user_brand_train_feature_data_14_buyCount         ...           \\\n0                                        0.0         ...            \n\n   brand_id_train_feature_data_60_clickCount  \\\n0                                      113.0   \n\n   brand_id_train_feature_data_60_buyCount  \\\n0                                      4.0   \n\n   brand_id_train_feature_data_60_collectCount  \\\n0                                          0.0   \n\n   brand_id_train_feature_data_60_cartCount  brand_rate_buyOfClick  \\\n0                                       0.0                 0.0354   \n\n   brand_rate_buyOfCollect  brand_rate_buyOfCart  user_rate_buyOfClick  \\\n0                      1.0                   1.0                0.0088   \n\n   user_rate_buyOfCollect  user_rate_buyOfCart  \n0                     1.0                  1.0  \n\n[1 rows x 62 columns]\n"
     ]
    }
   ],
   "source": [
    "print X_train.head(1)"
   ]
  },
  {
   "cell_type": "code",
   "execution_count": 6,
   "metadata": {},
   "outputs": [
    {
     "ename": "ValueError",
     "evalue": "feature_names mismatch: [u'user_brand_train_feature_data_1_clickCount', u'user_brand_train_feature_data_1_buyCount', u'user_brand_train_feature_data_1_collectCount', u'user_brand_train_feature_data_1_cartCount', u'user_brand_train_feature_data_7_clickCount', u'user_brand_train_feature_data_7_buyCount', u'user_brand_train_feature_data_7_collectCount', u'user_brand_train_feature_data_7_cartCount', u'user_brand_train_feature_data_14_clickCount', u'user_brand_train_feature_data_14_buyCount', u'user_brand_train_feature_data_14_collectCount', u'user_brand_train_feature_data_14_cartCount', u'user_brand_train_feature_data_28_clickCount', u'user_brand_train_feature_data_28_buyCount', u'user_brand_train_feature_data_28_collectCount', u'user_brand_train_feature_data_28_cartCount', u'user_id_train_feature_data_1_clickCount', u'user_id_train_feature_data_1_buyCount', u'user_id_train_feature_data_1_collectCount', u'user_id_train_feature_data_1_cartCount', u'user_id_train_feature_data_7_clickCount', u'user_id_train_feature_data_7_buyCount', u'user_id_train_feature_data_7_collectCount', u'user_id_train_feature_data_7_cartCount', u'user_id_train_feature_data_14_clickCount', u'user_id_train_feature_data_14_buyCount', u'user_id_train_feature_data_14_collectCount', u'user_id_train_feature_data_14_cartCount', u'user_id_train_feature_data_28_clickCount', u'user_id_train_feature_data_28_buyCount', u'user_id_train_feature_data_28_collectCount', u'user_id_train_feature_data_28_cartCount', u'user_id_train_feature_data_60_clickCount', u'user_id_train_feature_data_60_buyCount', u'user_id_train_feature_data_60_collectCount', u'user_id_train_feature_data_60_cartCount', u'brand_id_train_feature_data_1_clickCount', u'brand_id_train_feature_data_1_buyCount', u'brand_id_train_feature_data_1_collectCount', u'brand_id_train_feature_data_1_cartCount', u'brand_id_train_feature_data_7_clickCount', u'brand_id_train_feature_data_7_buyCount', u'brand_id_train_feature_data_7_collectCount', u'brand_id_train_feature_data_7_cartCount', u'brand_id_train_feature_data_14_clickCount', u'brand_id_train_feature_data_14_buyCount', u'brand_id_train_feature_data_14_collectCount', u'brand_id_train_feature_data_14_cartCount', u'brand_id_train_feature_data_28_clickCount', u'brand_id_train_feature_data_28_buyCount', u'brand_id_train_feature_data_28_collectCount', u'brand_id_train_feature_data_28_cartCount', u'brand_id_train_feature_data_60_clickCount', u'brand_id_train_feature_data_60_buyCount', u'brand_id_train_feature_data_60_collectCount', u'brand_id_train_feature_data_60_cartCount', u'brand_rate_buyOfClick', u'brand_rate_buyOfCollect', u'brand_rate_buyOfCart', u'user_rate_buyOfClick', u'user_rate_buyOfCollect', u'user_rate_buyOfCart'] [u'user_brand_test_feature_data_1_clickCount', u'user_brand_test_feature_data_1_buyCount', u'user_brand_test_feature_data_1_collectCount', u'user_brand_test_feature_data_1_cartCount', u'user_brand_test_feature_data_7_clickCount', u'user_brand_test_feature_data_7_buyCount', u'user_brand_test_feature_data_7_collectCount', u'user_brand_test_feature_data_7_cartCount', u'user_brand_test_feature_data_14_clickCount', u'user_brand_test_feature_data_14_buyCount', u'user_brand_test_feature_data_14_collectCount', u'user_brand_test_feature_data_14_cartCount', u'user_brand_test_feature_data_28_clickCount', u'user_brand_test_feature_data_28_buyCount', u'user_brand_test_feature_data_28_collectCount', u'user_brand_test_feature_data_28_cartCount', u'user_id_test_feature_data_1_clickCount', u'user_id_test_feature_data_1_buyCount', u'user_id_test_feature_data_1_collectCount', u'user_id_test_feature_data_1_cartCount', u'user_id_test_feature_data_7_clickCount', u'user_id_test_feature_data_7_buyCount', u'user_id_test_feature_data_7_collectCount', u'user_id_test_feature_data_7_cartCount', u'user_id_test_feature_data_14_clickCount', u'user_id_test_feature_data_14_buyCount', u'user_id_test_feature_data_14_collectCount', u'user_id_test_feature_data_14_cartCount', u'user_id_test_feature_data_28_clickCount', u'user_id_test_feature_data_28_buyCount', u'user_id_test_feature_data_28_collectCount', u'user_id_test_feature_data_28_cartCount', u'user_id_test_feature_data_60_clickCount', u'user_id_test_feature_data_60_buyCount', u'user_id_test_feature_data_60_collectCount', u'user_id_test_feature_data_60_cartCount', u'brand_id_test_feature_data_1_clickCount', u'brand_id_test_feature_data_1_buyCount', u'brand_id_test_feature_data_1_collectCount', u'brand_id_test_feature_data_1_cartCount', u'brand_id_test_feature_data_7_clickCount', u'brand_id_test_feature_data_7_buyCount', u'brand_id_test_feature_data_7_collectCount', u'brand_id_test_feature_data_7_cartCount', u'brand_id_test_feature_data_14_clickCount', u'brand_id_test_feature_data_14_buyCount', u'brand_id_test_feature_data_14_collectCount', u'brand_id_test_feature_data_14_cartCount', u'brand_id_test_feature_data_28_clickCount', u'brand_id_test_feature_data_28_buyCount', u'brand_id_test_feature_data_28_collectCount', u'brand_id_test_feature_data_28_cartCount', u'brand_id_test_feature_data_60_clickCount', u'brand_id_test_feature_data_60_buyCount', u'brand_id_test_feature_data_60_collectCount', u'brand_id_test_feature_data_60_cartCount', u'brand_rate_buyOfClick', u'brand_rate_buyOfCollect', u'brand_rate_buyOfCart', u'user_rate_buyOfClick', u'user_rate_buyOfCollect', u'user_rate_buyOfCart']\nexpected user_id_train_feature_data_7_clickCount, brand_id_train_feature_data_14_buyCount, user_brand_train_feature_data_14_collectCount, brand_id_train_feature_data_7_clickCount, user_brand_train_feature_data_7_collectCount, user_brand_train_feature_data_1_buyCount, user_id_train_feature_data_7_buyCount, brand_id_train_feature_data_1_cartCount, user_id_train_feature_data_28_collectCount, brand_id_train_feature_data_28_clickCount, user_id_train_feature_data_28_cartCount, user_id_train_feature_data_1_collectCount, brand_id_train_feature_data_60_buyCount, user_brand_train_feature_data_7_clickCount, user_id_train_feature_data_60_clickCount, user_id_train_feature_data_14_cartCount, user_id_train_feature_data_1_buyCount, brand_id_train_feature_data_1_collectCount, user_brand_train_feature_data_14_buyCount, user_brand_train_feature_data_7_buyCount, brand_id_train_feature_data_60_cartCount, user_brand_train_feature_data_28_collectCount, user_id_train_feature_data_28_buyCount, brand_id_train_feature_data_60_clickCount, user_id_train_feature_data_1_clickCount, user_brand_train_feature_data_1_collectCount, brand_id_train_feature_data_28_buyCount, brand_id_train_feature_data_14_clickCount, user_id_train_feature_data_1_cartCount, brand_id_train_feature_data_1_clickCount, user_brand_train_feature_data_1_cartCount, user_brand_train_feature_data_28_clickCount, user_brand_train_feature_data_28_buyCount, brand_id_train_feature_data_1_buyCount, user_id_train_feature_data_7_cartCount, user_brand_train_feature_data_28_cartCount, user_brand_train_feature_data_14_cartCount, user_brand_train_feature_data_14_clickCount, brand_id_train_feature_data_28_collectCount, brand_id_train_feature_data_7_cartCount, user_id_train_feature_data_28_clickCount, user_id_train_feature_data_14_buyCount, user_id_train_feature_data_60_buyCount, user_id_train_feature_data_60_collectCount, user_id_train_feature_data_14_clickCount, user_brand_train_feature_data_1_clickCount, brand_id_train_feature_data_28_cartCount, user_id_train_feature_data_14_collectCount, brand_id_train_feature_data_14_collectCount, brand_id_train_feature_data_60_collectCount, user_id_train_feature_data_7_collectCount, brand_id_train_feature_data_7_buyCount, user_brand_train_feature_data_7_cartCount, brand_id_train_feature_data_14_cartCount, brand_id_train_feature_data_7_collectCount, user_id_train_feature_data_60_cartCount in input data\ntraining data did not have the following fields: user_brand_test_feature_data_1_collectCount, user_id_test_feature_data_28_clickCount, user_id_test_feature_data_14_clickCount, user_id_test_feature_data_1_collectCount, brand_id_test_feature_data_7_clickCount, user_id_test_feature_data_60_clickCount, brand_id_test_feature_data_28_clickCount, user_id_test_feature_data_7_cartCount, user_brand_test_feature_data_1_buyCount, user_brand_test_feature_data_1_cartCount, user_id_test_feature_data_7_clickCount, brand_id_test_feature_data_60_clickCount, user_id_test_feature_data_14_cartCount, user_brand_test_feature_data_7_buyCount, brand_id_test_feature_data_1_buyCount, user_id_test_feature_data_7_collectCount, brand_id_test_feature_data_7_cartCount, user_brand_test_feature_data_28_cartCount, brand_id_test_feature_data_1_clickCount, user_brand_test_feature_data_28_clickCount, user_id_test_feature_data_1_clickCount, brand_id_test_feature_data_28_collectCount, user_id_test_feature_data_14_collectCount, user_brand_test_feature_data_14_cartCount, user_brand_test_feature_data_7_clickCount, brand_id_test_feature_data_1_collectCount, user_brand_test_feature_data_7_collectCount, user_id_test_feature_data_28_collectCount, user_id_test_feature_data_60_buyCount, user_brand_test_feature_data_1_clickCount, brand_id_test_feature_data_14_clickCount, user_id_test_feature_data_60_collectCount, brand_id_test_feature_data_28_cartCount, user_id_test_feature_data_28_cartCount, user_brand_test_feature_data_14_collectCount, user_id_test_feature_data_14_buyCount, brand_id_test_feature_data_14_collectCount, user_brand_test_feature_data_28_collectCount, user_id_test_feature_data_28_buyCount, brand_id_test_feature_data_14_cartCount, brand_id_test_feature_data_7_buyCount, brand_id_test_feature_data_28_buyCount, brand_id_test_feature_data_60_buyCount, user_brand_test_feature_data_14_clickCount, brand_id_test_feature_data_7_collectCount, user_brand_test_feature_data_28_buyCount, user_id_test_feature_data_1_buyCount, user_brand_test_feature_data_7_cartCount, brand_id_test_feature_data_14_buyCount, brand_id_test_feature_data_60_cartCount, user_id_test_feature_data_7_buyCount, user_id_test_feature_data_60_cartCount, user_brand_test_feature_data_14_buyCount, user_id_test_feature_data_1_cartCount, brand_id_test_feature_data_1_cartCount, brand_id_test_feature_data_60_collectCount",
     "traceback": [
      "\u001b[1;31m---------------------------------------------------------------------------\u001b[0m",
      "\u001b[1;31mValueError\u001b[0m                                Traceback (most recent call last)",
      "\u001b[1;32m<ipython-input-6-12ffd86b8b6e>\u001b[0m in \u001b[0;36m<module>\u001b[1;34m()\u001b[0m\n\u001b[1;32m----> 1\u001b[1;33m \u001b[0mxlf\u001b[0m\u001b[1;33m.\u001b[0m\u001b[0mscore\u001b[0m\u001b[1;33m(\u001b[0m\u001b[0mX_test\u001b[0m\u001b[1;33m,\u001b[0m \u001b[0my_test\u001b[0m\u001b[1;33m)\u001b[0m\u001b[1;33m\u001b[0m\u001b[0m\n\u001b[0m",
      "\u001b[1;32mD:\\Anaconda2\\lib\\site-packages\\sklearn\\base.pyc\u001b[0m in \u001b[0;36mscore\u001b[1;34m(self, X, y, sample_weight)\u001b[0m\n\u001b[0;32m    348\u001b[0m         \"\"\"\n\u001b[0;32m    349\u001b[0m         \u001b[1;32mfrom\u001b[0m \u001b[1;33m.\u001b[0m\u001b[0mmetrics\u001b[0m \u001b[1;32mimport\u001b[0m \u001b[0maccuracy_score\u001b[0m\u001b[1;33m\u001b[0m\u001b[0m\n\u001b[1;32m--> 350\u001b[1;33m         \u001b[1;32mreturn\u001b[0m \u001b[0maccuracy_score\u001b[0m\u001b[1;33m(\u001b[0m\u001b[0my\u001b[0m\u001b[1;33m,\u001b[0m \u001b[0mself\u001b[0m\u001b[1;33m.\u001b[0m\u001b[0mpredict\u001b[0m\u001b[1;33m(\u001b[0m\u001b[0mX\u001b[0m\u001b[1;33m)\u001b[0m\u001b[1;33m,\u001b[0m \u001b[0msample_weight\u001b[0m\u001b[1;33m=\u001b[0m\u001b[0msample_weight\u001b[0m\u001b[1;33m)\u001b[0m\u001b[1;33m\u001b[0m\u001b[0m\n\u001b[0m\u001b[0;32m    351\u001b[0m \u001b[1;33m\u001b[0m\u001b[0m\n\u001b[0;32m    352\u001b[0m \u001b[1;33m\u001b[0m\u001b[0m\n",
      "\u001b[1;32mD:\\Anaconda2\\lib\\site-packages\\xgboost-0.6-py2.7.egg\\xgboost\\sklearn.pyc\u001b[0m in \u001b[0;36mpredict\u001b[1;34m(self, data, output_margin, ntree_limit)\u001b[0m\n\u001b[0;32m    525\u001b[0m         class_probs = self.get_booster().predict(test_dmatrix,\n\u001b[0;32m    526\u001b[0m                                                  \u001b[0moutput_margin\u001b[0m\u001b[1;33m=\u001b[0m\u001b[0moutput_margin\u001b[0m\u001b[1;33m,\u001b[0m\u001b[1;33m\u001b[0m\u001b[0m\n\u001b[1;32m--> 527\u001b[1;33m                                                  ntree_limit=ntree_limit)\n\u001b[0m\u001b[0;32m    528\u001b[0m         \u001b[1;32mif\u001b[0m \u001b[0mlen\u001b[0m\u001b[1;33m(\u001b[0m\u001b[0mclass_probs\u001b[0m\u001b[1;33m.\u001b[0m\u001b[0mshape\u001b[0m\u001b[1;33m)\u001b[0m \u001b[1;33m>\u001b[0m \u001b[1;36m1\u001b[0m\u001b[1;33m:\u001b[0m\u001b[1;33m\u001b[0m\u001b[0m\n\u001b[0;32m    529\u001b[0m             \u001b[0mcolumn_indexes\u001b[0m \u001b[1;33m=\u001b[0m \u001b[0mnp\u001b[0m\u001b[1;33m.\u001b[0m\u001b[0margmax\u001b[0m\u001b[1;33m(\u001b[0m\u001b[0mclass_probs\u001b[0m\u001b[1;33m,\u001b[0m \u001b[0maxis\u001b[0m\u001b[1;33m=\u001b[0m\u001b[1;36m1\u001b[0m\u001b[1;33m)\u001b[0m\u001b[1;33m\u001b[0m\u001b[0m\n",
      "\u001b[1;32mD:\\Anaconda2\\lib\\site-packages\\xgboost-0.6-py2.7.egg\\xgboost\\core.pyc\u001b[0m in \u001b[0;36mpredict\u001b[1;34m(self, data, output_margin, ntree_limit, pred_leaf, pred_contribs, approx_contribs)\u001b[0m\n\u001b[0;32m   1042\u001b[0m             \u001b[0moption_mask\u001b[0m \u001b[1;33m|=\u001b[0m \u001b[1;36m0x08\u001b[0m\u001b[1;33m\u001b[0m\u001b[0m\n\u001b[0;32m   1043\u001b[0m \u001b[1;33m\u001b[0m\u001b[0m\n\u001b[1;32m-> 1044\u001b[1;33m         \u001b[0mself\u001b[0m\u001b[1;33m.\u001b[0m\u001b[0m_validate_features\u001b[0m\u001b[1;33m(\u001b[0m\u001b[0mdata\u001b[0m\u001b[1;33m)\u001b[0m\u001b[1;33m\u001b[0m\u001b[0m\n\u001b[0m\u001b[0;32m   1045\u001b[0m \u001b[1;33m\u001b[0m\u001b[0m\n\u001b[0;32m   1046\u001b[0m         \u001b[0mlength\u001b[0m \u001b[1;33m=\u001b[0m \u001b[0mc_bst_ulong\u001b[0m\u001b[1;33m(\u001b[0m\u001b[1;33m)\u001b[0m\u001b[1;33m\u001b[0m\u001b[0m\n",
      "\u001b[1;32mD:\\Anaconda2\\lib\\site-packages\\xgboost-0.6-py2.7.egg\\xgboost\\core.pyc\u001b[0m in \u001b[0;36m_validate_features\u001b[1;34m(self, data)\u001b[0m\n\u001b[0;32m   1286\u001b[0m \u001b[1;33m\u001b[0m\u001b[0m\n\u001b[0;32m   1287\u001b[0m                 raise ValueError(msg.format(self.feature_names,\n\u001b[1;32m-> 1288\u001b[1;33m                                             data.feature_names))\n\u001b[0m\u001b[0;32m   1289\u001b[0m \u001b[1;33m\u001b[0m\u001b[0m\n\u001b[0;32m   1290\u001b[0m     \u001b[1;32mdef\u001b[0m \u001b[0mget_split_value_histogram\u001b[0m\u001b[1;33m(\u001b[0m\u001b[0mself\u001b[0m\u001b[1;33m,\u001b[0m \u001b[0mfeature\u001b[0m\u001b[1;33m,\u001b[0m \u001b[0mfmap\u001b[0m\u001b[1;33m=\u001b[0m\u001b[1;34m''\u001b[0m\u001b[1;33m,\u001b[0m \u001b[0mbins\u001b[0m\u001b[1;33m=\u001b[0m\u001b[0mNone\u001b[0m\u001b[1;33m,\u001b[0m \u001b[0mas_pandas\u001b[0m\u001b[1;33m=\u001b[0m\u001b[0mTrue\u001b[0m\u001b[1;33m)\u001b[0m\u001b[1;33m:\u001b[0m\u001b[1;33m\u001b[0m\u001b[0m\n",
      "\u001b[1;31mValueError\u001b[0m: feature_names mismatch: [u'user_brand_train_feature_data_1_clickCount', u'user_brand_train_feature_data_1_buyCount', u'user_brand_train_feature_data_1_collectCount', u'user_brand_train_feature_data_1_cartCount', u'user_brand_train_feature_data_7_clickCount', u'user_brand_train_feature_data_7_buyCount', u'user_brand_train_feature_data_7_collectCount', u'user_brand_train_feature_data_7_cartCount', u'user_brand_train_feature_data_14_clickCount', u'user_brand_train_feature_data_14_buyCount', u'user_brand_train_feature_data_14_collectCount', u'user_brand_train_feature_data_14_cartCount', u'user_brand_train_feature_data_28_clickCount', u'user_brand_train_feature_data_28_buyCount', u'user_brand_train_feature_data_28_collectCount', u'user_brand_train_feature_data_28_cartCount', u'user_id_train_feature_data_1_clickCount', u'user_id_train_feature_data_1_buyCount', u'user_id_train_feature_data_1_collectCount', u'user_id_train_feature_data_1_cartCount', u'user_id_train_feature_data_7_clickCount', u'user_id_train_feature_data_7_buyCount', u'user_id_train_feature_data_7_collectCount', u'user_id_train_feature_data_7_cartCount', u'user_id_train_feature_data_14_clickCount', u'user_id_train_feature_data_14_buyCount', u'user_id_train_feature_data_14_collectCount', u'user_id_train_feature_data_14_cartCount', u'user_id_train_feature_data_28_clickCount', u'user_id_train_feature_data_28_buyCount', u'user_id_train_feature_data_28_collectCount', u'user_id_train_feature_data_28_cartCount', u'user_id_train_feature_data_60_clickCount', u'user_id_train_feature_data_60_buyCount', u'user_id_train_feature_data_60_collectCount', u'user_id_train_feature_data_60_cartCount', u'brand_id_train_feature_data_1_clickCount', u'brand_id_train_feature_data_1_buyCount', u'brand_id_train_feature_data_1_collectCount', u'brand_id_train_feature_data_1_cartCount', u'brand_id_train_feature_data_7_clickCount', u'brand_id_train_feature_data_7_buyCount', u'brand_id_train_feature_data_7_collectCount', u'brand_id_train_feature_data_7_cartCount', u'brand_id_train_feature_data_14_clickCount', u'brand_id_train_feature_data_14_buyCount', u'brand_id_train_feature_data_14_collectCount', u'brand_id_train_feature_data_14_cartCount', u'brand_id_train_feature_data_28_clickCount', u'brand_id_train_feature_data_28_buyCount', u'brand_id_train_feature_data_28_collectCount', u'brand_id_train_feature_data_28_cartCount', u'brand_id_train_feature_data_60_clickCount', u'brand_id_train_feature_data_60_buyCount', u'brand_id_train_feature_data_60_collectCount', u'brand_id_train_feature_data_60_cartCount', u'brand_rate_buyOfClick', u'brand_rate_buyOfCollect', u'brand_rate_buyOfCart', u'user_rate_buyOfClick', u'user_rate_buyOfCollect', u'user_rate_buyOfCart'] [u'user_brand_test_feature_data_1_clickCount', u'user_brand_test_feature_data_1_buyCount', u'user_brand_test_feature_data_1_collectCount', u'user_brand_test_feature_data_1_cartCount', u'user_brand_test_feature_data_7_clickCount', u'user_brand_test_feature_data_7_buyCount', u'user_brand_test_feature_data_7_collectCount', u'user_brand_test_feature_data_7_cartCount', u'user_brand_test_feature_data_14_clickCount', u'user_brand_test_feature_data_14_buyCount', u'user_brand_test_feature_data_14_collectCount', u'user_brand_test_feature_data_14_cartCount', u'user_brand_test_feature_data_28_clickCount', u'user_brand_test_feature_data_28_buyCount', u'user_brand_test_feature_data_28_collectCount', u'user_brand_test_feature_data_28_cartCount', u'user_id_test_feature_data_1_clickCount', u'user_id_test_feature_data_1_buyCount', u'user_id_test_feature_data_1_collectCount', u'user_id_test_feature_data_1_cartCount', u'user_id_test_feature_data_7_clickCount', u'user_id_test_feature_data_7_buyCount', u'user_id_test_feature_data_7_collectCount', u'user_id_test_feature_data_7_cartCount', u'user_id_test_feature_data_14_clickCount', u'user_id_test_feature_data_14_buyCount', u'user_id_test_feature_data_14_collectCount', u'user_id_test_feature_data_14_cartCount', u'user_id_test_feature_data_28_clickCount', u'user_id_test_feature_data_28_buyCount', u'user_id_test_feature_data_28_collectCount', u'user_id_test_feature_data_28_cartCount', u'user_id_test_feature_data_60_clickCount', u'user_id_test_feature_data_60_buyCount', u'user_id_test_feature_data_60_collectCount', u'user_id_test_feature_data_60_cartCount', u'brand_id_test_feature_data_1_clickCount', u'brand_id_test_feature_data_1_buyCount', u'brand_id_test_feature_data_1_collectCount', u'brand_id_test_feature_data_1_cartCount', u'brand_id_test_feature_data_7_clickCount', u'brand_id_test_feature_data_7_buyCount', u'brand_id_test_feature_data_7_collectCount', u'brand_id_test_feature_data_7_cartCount', u'brand_id_test_feature_data_14_clickCount', u'brand_id_test_feature_data_14_buyCount', u'brand_id_test_feature_data_14_collectCount', u'brand_id_test_feature_data_14_cartCount', u'brand_id_test_feature_data_28_clickCount', u'brand_id_test_feature_data_28_buyCount', u'brand_id_test_feature_data_28_collectCount', u'brand_id_test_feature_data_28_cartCount', u'brand_id_test_feature_data_60_clickCount', u'brand_id_test_feature_data_60_buyCount', u'brand_id_test_feature_data_60_collectCount', u'brand_id_test_feature_data_60_cartCount', u'brand_rate_buyOfClick', u'brand_rate_buyOfCollect', u'brand_rate_buyOfCart', u'user_rate_buyOfClick', u'user_rate_buyOfCollect', u'user_rate_buyOfCart']\nexpected user_id_train_feature_data_7_clickCount, brand_id_train_feature_data_14_buyCount, user_brand_train_feature_data_14_collectCount, brand_id_train_feature_data_7_clickCount, user_brand_train_feature_data_7_collectCount, user_brand_train_feature_data_1_buyCount, user_id_train_feature_data_7_buyCount, brand_id_train_feature_data_1_cartCount, user_id_train_feature_data_28_collectCount, brand_id_train_feature_data_28_clickCount, user_id_train_feature_data_28_cartCount, user_id_train_feature_data_1_collectCount, brand_id_train_feature_data_60_buyCount, user_brand_train_feature_data_7_clickCount, user_id_train_feature_data_60_clickCount, user_id_train_feature_data_14_cartCount, user_id_train_feature_data_1_buyCount, brand_id_train_feature_data_1_collectCount, user_brand_train_feature_data_14_buyCount, user_brand_train_feature_data_7_buyCount, brand_id_train_feature_data_60_cartCount, user_brand_train_feature_data_28_collectCount, user_id_train_feature_data_28_buyCount, brand_id_train_feature_data_60_clickCount, user_id_train_feature_data_1_clickCount, user_brand_train_feature_data_1_collectCount, brand_id_train_feature_data_28_buyCount, brand_id_train_feature_data_14_clickCount, user_id_train_feature_data_1_cartCount, brand_id_train_feature_data_1_clickCount, user_brand_train_feature_data_1_cartCount, user_brand_train_feature_data_28_clickCount, user_brand_train_feature_data_28_buyCount, brand_id_train_feature_data_1_buyCount, user_id_train_feature_data_7_cartCount, user_brand_train_feature_data_28_cartCount, user_brand_train_feature_data_14_cartCount, user_brand_train_feature_data_14_clickCount, brand_id_train_feature_data_28_collectCount, brand_id_train_feature_data_7_cartCount, user_id_train_feature_data_28_clickCount, user_id_train_feature_data_14_buyCount, user_id_train_feature_data_60_buyCount, user_id_train_feature_data_60_collectCount, user_id_train_feature_data_14_clickCount, user_brand_train_feature_data_1_clickCount, brand_id_train_feature_data_28_cartCount, user_id_train_feature_data_14_collectCount, brand_id_train_feature_data_14_collectCount, brand_id_train_feature_data_60_collectCount, user_id_train_feature_data_7_collectCount, brand_id_train_feature_data_7_buyCount, user_brand_train_feature_data_7_cartCount, brand_id_train_feature_data_14_cartCount, brand_id_train_feature_data_7_collectCount, user_id_train_feature_data_60_cartCount in input data\ntraining data did not have the following fields: user_brand_test_feature_data_1_collectCount, user_id_test_feature_data_28_clickCount, user_id_test_feature_data_14_clickCount, user_id_test_feature_data_1_collectCount, brand_id_test_feature_data_7_clickCount, user_id_test_feature_data_60_clickCount, brand_id_test_feature_data_28_clickCount, user_id_test_feature_data_7_cartCount, user_brand_test_feature_data_1_buyCount, user_brand_test_feature_data_1_cartCount, user_id_test_feature_data_7_clickCount, brand_id_test_feature_data_60_clickCount, user_id_test_feature_data_14_cartCount, user_brand_test_feature_data_7_buyCount, brand_id_test_feature_data_1_buyCount, user_id_test_feature_data_7_collectCount, brand_id_test_feature_data_7_cartCount, user_brand_test_feature_data_28_cartCount, brand_id_test_feature_data_1_clickCount, user_brand_test_feature_data_28_clickCount, user_id_test_feature_data_1_clickCount, brand_id_test_feature_data_28_collectCount, user_id_test_feature_data_14_collectCount, user_brand_test_feature_data_14_cartCount, user_brand_test_feature_data_7_clickCount, brand_id_test_feature_data_1_collectCount, user_brand_test_feature_data_7_collectCount, user_id_test_feature_data_28_collectCount, user_id_test_feature_data_60_buyCount, user_brand_test_feature_data_1_clickCount, brand_id_test_feature_data_14_clickCount, user_id_test_feature_data_60_collectCount, brand_id_test_feature_data_28_cartCount, user_id_test_feature_data_28_cartCount, user_brand_test_feature_data_14_collectCount, user_id_test_feature_data_14_buyCount, brand_id_test_feature_data_14_collectCount, user_brand_test_feature_data_28_collectCount, user_id_test_feature_data_28_buyCount, brand_id_test_feature_data_14_cartCount, brand_id_test_feature_data_7_buyCount, brand_id_test_feature_data_28_buyCount, brand_id_test_feature_data_60_buyCount, user_brand_test_feature_data_14_clickCount, brand_id_test_feature_data_7_collectCount, user_brand_test_feature_data_28_buyCount, user_id_test_feature_data_1_buyCount, user_brand_test_feature_data_7_cartCount, brand_id_test_feature_data_14_buyCount, brand_id_test_feature_data_60_cartCount, user_id_test_feature_data_7_buyCount, user_id_test_feature_data_60_cartCount, user_brand_test_feature_data_14_buyCount, user_id_test_feature_data_1_cartCount, brand_id_test_feature_data_1_cartCount, brand_id_test_feature_data_60_collectCount"
     ],
     "output_type": "error"
    }
   ],
   "source": [
    "xlf.score(X_test, y_test)"
   ]
  },
  {
   "cell_type": "code",
   "execution_count": null,
   "metadata": {},
   "outputs": [],
   "source": []
  }
 ],
 "metadata": {
  "kernelspec": {
   "display_name": "Python 2",
   "language": "python",
   "name": "python2"
  },
  "language_info": {
   "codemirror_mode": {
    "name": "ipython",
    "version": 2
   },
   "file_extension": ".py",
   "mimetype": "text/x-python",
   "name": "python",
   "nbconvert_exporter": "python",
   "pygments_lexer": "ipython2",
   "version": "2.7.6"
  }
 },
 "nbformat": 4,
 "nbformat_minor": 0
}
