{
 "cells": [
  {
   "cell_type": "code",
   "execution_count": 21,
   "metadata": {
    "collapsed": true
   },
   "outputs": [
    {
     "name": "stdout",
     "output_type": "stream",
     "text": [
      "Checking whether there is an H2O instance running at http://localhost:54321"
     ]
    },
    {
     "name": "stdout",
     "output_type": "stream",
     "text": [
      "."
     ]
    },
    {
     "name": "stdout",
     "output_type": "stream",
     "text": [
      " connected."
     ]
    },
    {
     "name": "stdout",
     "output_type": "stream",
     "text": [
      "\n"
     ]
    },
    {
     "data": {
      "text/html": [
       "<div style=\"overflow:auto\"><table style=\"width:50%\"><tr><td>H2O cluster uptime:</td>\n",
       "<td>29 mins 46 secs</td></tr>\n",
       "<tr><td>H2O cluster version:</td>\n",
       "<td>3.17.0.4124</td></tr>\n",
       "<tr><td>H2O cluster version age:</td>\n",
       "<td>24 days </td></tr>\n",
       "<tr><td>H2O cluster name:</td>\n",
       "<td>H2O_from_python_scc_1hevq0</td></tr>\n",
       "<tr><td>H2O cluster total nodes:</td>\n",
       "<td>1</td></tr>\n",
       "<tr><td>H2O cluster free memory:</td>\n",
       "<td>3.498 Gb</td></tr>\n",
       "<tr><td>H2O cluster total cores:</td>\n",
       "<td>4</td></tr>\n",
       "<tr><td>H2O cluster allowed cores:</td>\n",
       "<td>4</td></tr>\n",
       "<tr><td>H2O cluster status:</td>\n",
       "<td>locked, healthy</td></tr>\n",
       "<tr><td>H2O connection url:</td>\n",
       "<td>http://localhost:54321</td></tr>\n",
       "<tr><td>H2O connection proxy:</td>\n",
       "<td>None</td></tr>\n",
       "<tr><td>H2O internal security:</td>\n",
       "<td>False</td></tr>\n",
       "<tr><td>H2O API Extensions:</td>\n",
       "<td>Algos, AutoML, Core V3, Core V4</td></tr>\n",
       "<tr><td>Python version:</td>\n",
       "<td>2.7.13 final</td></tr></table></div>"
      ],
      "text/plain": [
       "<div style=\"overflow:auto\"><table style=\"width:50%\"><tr><td>H2O cluster uptime:</td>\n",
       "<td>29 mins 46 secs</td></tr>\n",
       "<tr><td>H2O cluster version:</td>\n",
       "<td>3.17.0.4124</td></tr>\n",
       "<tr><td>H2O cluster version age:</td>\n",
       "<td>24 days </td></tr>\n",
       "<tr><td>H2O cluster name:</td>\n",
       "<td>H2O_from_python_scc_1hevq0</td></tr>\n",
       "<tr><td>H2O cluster total nodes:</td>\n",
       "<td>1</td></tr>\n",
       "<tr><td>H2O cluster free memory:</td>\n",
       "<td>3.498 Gb</td></tr>\n",
       "<tr><td>H2O cluster total cores:</td>\n",
       "<td>4</td></tr>\n",
       "<tr><td>H2O cluster allowed cores:</td>\n",
       "<td>4</td></tr>\n",
       "<tr><td>H2O cluster status:</td>\n",
       "<td>locked, healthy</td></tr>\n",
       "<tr><td>H2O connection url:</td>\n",
       "<td>http://localhost:54321</td></tr>\n",
       "<tr><td>H2O connection proxy:</td>\n",
       "<td>None</td></tr>\n",
       "<tr><td>H2O internal security:</td>\n",
       "<td>False</td></tr>\n",
       "<tr><td>H2O API Extensions:</td>\n",
       "<td>Algos, AutoML, Core V3, Core V4</td></tr>\n",
       "<tr><td>Python version:</td>\n",
       "<td>2.7.13 final</td></tr></table></div>"
      ]
     },
     "execution_count": 0,
     "metadata": {},
     "output_type": "execute_result"
    },
    {
     "name": "stdout",
     "output_type": "stream",
     "text": [
      "Parse progress: |"
     ]
    },
    {
     "name": "stdout",
     "output_type": "stream",
     "text": [
      "█████████████████████████████████████████████████████████| 100%"
     ]
    },
    {
     "name": "stdout",
     "output_type": "stream",
     "text": [
      "\n"
     ]
    },
    {
     "name": "stdout",
     "output_type": "stream",
     "text": [
      "Parse progress: |"
     ]
    },
    {
     "name": "stdout",
     "output_type": "stream",
     "text": [
      "█████████████████████████████████████████████████████████| 100%"
     ]
    },
    {
     "name": "stdout",
     "output_type": "stream",
     "text": [
      "\n"
     ]
    },
    {
     "name": "stdout",
     "output_type": "stream",
     "text": [
      "drf Model Build progress: |"
     ]
    },
    {
     "name": "stdout",
     "output_type": "stream",
     "text": [
      "█"
     ]
    },
    {
     "name": "stdout",
     "output_type": "stream",
     "text": [
      "█"
     ]
    },
    {
     "name": "stdout",
     "output_type": "stream",
     "text": [
      "█"
     ]
    },
    {
     "name": "stdout",
     "output_type": "stream",
     "text": [
      "█"
     ]
    },
    {
     "name": "stdout",
     "output_type": "stream",
     "text": [
      "█"
     ]
    },
    {
     "name": "stdout",
     "output_type": "stream",
     "text": [
      "█"
     ]
    },
    {
     "name": "stdout",
     "output_type": "stream",
     "text": [
      "█"
     ]
    },
    {
     "name": "stdout",
     "output_type": "stream",
     "text": [
      "████████████████████████████████████████| 100%"
     ]
    },
    {
     "name": "stdout",
     "output_type": "stream",
     "text": [
      "\n"
     ]
    }
   ],
   "source": [
    "# -*- coding: UTF-8 -*-\n",
    "\"\"\"\n",
    "作者:scc\n",
    "时间：2017年 12 月 28 日\n",
    "实现功能：\n",
    "\"\"\"\n",
    "# -*-encoding=utf-8-*-\n",
    "import pandas as pd\n",
    "import numpy as np\n",
    "import matplotlib.pyplot as plt\n",
    "import h2o\n",
    "from h2o.estimators.random_forest import H2ORandomForestEstimator\n",
    "h2o.init()\n",
    "trainData = h2o\\\n",
    "    .import_file(\"K:\\\\thisPython\\python\\lesson7_experiment_skycat_feature+\\model\\PreFeatureTag.csv\")\n",
    "testData = h2o.import_file(\"K:\\\\thisPython\\python\\lesson7_experiment_skycat_feature+\\model\\TrainFeatureTag.csv\")\n",
    "realTrainData=trainData[2:80]#不选取第1、2和最后一列\n",
    "model = H2ORandomForestEstimator(ntrees=18, max_depth=10)\n",
    "model.train(x=realTrainData.names,y='tag',training_frame=trainData)"
   ]
  },
  {
   "cell_type": "code",
   "execution_count": 22,
   "metadata": {},
   "outputs": [
    {
     "name": "stdout",
     "output_type": "stream",
     "text": [
      "drf prediction progress: |"
     ]
    },
    {
     "name": "stdout",
     "output_type": "stream",
     "text": [
      "████████████████████████████████████████████████| 100%"
     ]
    },
    {
     "name": "stdout",
     "output_type": "stream",
     "text": [
      "\n"
     ]
    }
   ],
   "source": [
    "pre_tag = H2ORandomForestEstimator.predict(model, testData)"
   ]
  },
  {
   "cell_type": "code",
   "execution_count": 23,
   "metadata": {},
   "outputs": [
    {
     "data": {
      "text/html": [
       "<table>\n",
       "<thead>\n",
       "<tr><th style=\"text-align: right;\">   predict</th></tr>\n",
       "</thead>\n",
       "<tbody>\n",
       "<tr><td style=\"text-align: right;\">0.00304967</td></tr>\n",
       "<tr><td style=\"text-align: right;\">0.00324473</td></tr>\n",
       "<tr><td style=\"text-align: right;\">0.00387281</td></tr>\n",
       "<tr><td style=\"text-align: right;\">0.127184  </td></tr>\n",
       "<tr><td style=\"text-align: right;\">0.00212512</td></tr>\n",
       "<tr><td style=\"text-align: right;\">0.00263826</td></tr>\n",
       "<tr><td style=\"text-align: right;\">0.00176129</td></tr>\n",
       "<tr><td style=\"text-align: right;\">0.00263826</td></tr>\n",
       "<tr><td style=\"text-align: right;\">0.164024  </td></tr>\n",
       "<tr><td style=\"text-align: right;\">0.00295307</td></tr>\n",
       "</tbody>\n",
       "</table>"
      ],
      "text/plain": [
       "<table>\n",
       "<thead>\n",
       "<tr><th style=\"text-align: right;\">   predict</th></tr>\n",
       "</thead>\n",
       "<tbody>\n",
       "<tr><td style=\"text-align: right;\">0.00304967</td></tr>\n",
       "<tr><td style=\"text-align: right;\">0.00324473</td></tr>\n",
       "<tr><td style=\"text-align: right;\">0.00387281</td></tr>\n",
       "<tr><td style=\"text-align: right;\">0.127184  </td></tr>\n",
       "<tr><td style=\"text-align: right;\">0.00212512</td></tr>\n",
       "<tr><td style=\"text-align: right;\">0.00263826</td></tr>\n",
       "<tr><td style=\"text-align: right;\">0.00176129</td></tr>\n",
       "<tr><td style=\"text-align: right;\">0.00263826</td></tr>\n",
       "<tr><td style=\"text-align: right;\">0.164024  </td></tr>\n",
       "<tr><td style=\"text-align: right;\">0.00295307</td></tr>\n",
       "</tbody>\n",
       "</table>"
      ]
     },
     "execution_count": 0,
     "metadata": {},
     "output_type": "execute_result"
    },
    {
     "data": {
      "text/plain": [
       ""
      ]
     },
     "execution_count": 23,
     "metadata": {},
     "output_type": "execute_result"
    }
   ],
   "source": [
    "pre_tag.head()"
   ]
  },
  {
   "cell_type": "code",
   "execution_count": 24,
   "metadata": {},
   "outputs": [
    {
     "data": {
      "text/html": [
       "<table>\n",
       "<thead>\n",
       "<tr><th style=\"text-align: right;\">   predict</th><th style=\"text-align: right;\">         user_id</th><th style=\"text-align: right;\">  brand_id</th><th style=\"text-align: right;\">  UB_7Day_ClickCount</th></tr>\n",
       "</thead>\n",
       "<tbody>\n",
       "<tr><td style=\"text-align: right;\">0.00304967</td><td style=\"text-align: right;\"> 19500          </td><td style=\"text-align: right;\">       143</td><td style=\"text-align: right;\">                   1</td></tr>\n",
       "<tr><td style=\"text-align: right;\">0.00324473</td><td style=\"text-align: right;\">232000          </td><td style=\"text-align: right;\">       143</td><td style=\"text-align: right;\">                   0</td></tr>\n",
       "<tr><td style=\"text-align: right;\">0.00387281</td><td style=\"text-align: right;\">832250          </td><td style=\"text-align: right;\">       143</td><td style=\"text-align: right;\">                   0</td></tr>\n",
       "<tr><td style=\"text-align: right;\">0.127184  </td><td style=\"text-align: right;\">981000          </td><td style=\"text-align: right;\">       143</td><td style=\"text-align: right;\">                   0</td></tr>\n",
       "<tr><td style=\"text-align: right;\">0.00212512</td><td style=\"text-align: right;\">     1.1045e+06 </td><td style=\"text-align: right;\">       143</td><td style=\"text-align: right;\">                   1</td></tr>\n",
       "<tr><td style=\"text-align: right;\">0.00263826</td><td style=\"text-align: right;\">     1.53125e+06</td><td style=\"text-align: right;\">       143</td><td style=\"text-align: right;\">                   1</td></tr>\n",
       "<tr><td style=\"text-align: right;\">0.00176129</td><td style=\"text-align: right;\">     2.87025e+06</td><td style=\"text-align: right;\">       143</td><td style=\"text-align: right;\">                   0</td></tr>\n",
       "<tr><td style=\"text-align: right;\">0.00263826</td><td style=\"text-align: right;\">     2.8745e+06 </td><td style=\"text-align: right;\">       143</td><td style=\"text-align: right;\">                   1</td></tr>\n",
       "<tr><td style=\"text-align: right;\">0.164024  </td><td style=\"text-align: right;\">     2.92175e+06</td><td style=\"text-align: right;\">       143</td><td style=\"text-align: right;\">                   5</td></tr>\n",
       "<tr><td style=\"text-align: right;\">0.00295307</td><td style=\"text-align: right;\">     3.742e+06  </td><td style=\"text-align: right;\">       143</td><td style=\"text-align: right;\">                   0</td></tr>\n",
       "</tbody>\n",
       "</table>"
      ],
      "text/plain": [
       "<table>\n",
       "<thead>\n",
       "<tr><th style=\"text-align: right;\">   predict</th><th style=\"text-align: right;\">         user_id</th><th style=\"text-align: right;\">  brand_id</th><th style=\"text-align: right;\">  UB_7Day_ClickCount</th></tr>\n",
       "</thead>\n",
       "<tbody>\n",
       "<tr><td style=\"text-align: right;\">0.00304967</td><td style=\"text-align: right;\"> 19500          </td><td style=\"text-align: right;\">       143</td><td style=\"text-align: right;\">                   1</td></tr>\n",
       "<tr><td style=\"text-align: right;\">0.00324473</td><td style=\"text-align: right;\">232000          </td><td style=\"text-align: right;\">       143</td><td style=\"text-align: right;\">                   0</td></tr>\n",
       "<tr><td style=\"text-align: right;\">0.00387281</td><td style=\"text-align: right;\">832250          </td><td style=\"text-align: right;\">       143</td><td style=\"text-align: right;\">                   0</td></tr>\n",
       "<tr><td style=\"text-align: right;\">0.127184  </td><td style=\"text-align: right;\">981000          </td><td style=\"text-align: right;\">       143</td><td style=\"text-align: right;\">                   0</td></tr>\n",
       "<tr><td style=\"text-align: right;\">0.00212512</td><td style=\"text-align: right;\">     1.1045e+06 </td><td style=\"text-align: right;\">       143</td><td style=\"text-align: right;\">                   1</td></tr>\n",
       "<tr><td style=\"text-align: right;\">0.00263826</td><td style=\"text-align: right;\">     1.53125e+06</td><td style=\"text-align: right;\">       143</td><td style=\"text-align: right;\">                   1</td></tr>\n",
       "<tr><td style=\"text-align: right;\">0.00176129</td><td style=\"text-align: right;\">     2.87025e+06</td><td style=\"text-align: right;\">       143</td><td style=\"text-align: right;\">                   0</td></tr>\n",
       "<tr><td style=\"text-align: right;\">0.00263826</td><td style=\"text-align: right;\">     2.8745e+06 </td><td style=\"text-align: right;\">       143</td><td style=\"text-align: right;\">                   1</td></tr>\n",
       "<tr><td style=\"text-align: right;\">0.164024  </td><td style=\"text-align: right;\">     2.92175e+06</td><td style=\"text-align: right;\">       143</td><td style=\"text-align: right;\">                   5</td></tr>\n",
       "<tr><td style=\"text-align: right;\">0.00295307</td><td style=\"text-align: right;\">     3.742e+06  </td><td style=\"text-align: right;\">       143</td><td style=\"text-align: right;\">                   0</td></tr>\n",
       "</tbody>\n",
       "</table>"
      ]
     },
     "execution_count": 0,
     "metadata": {},
     "output_type": "execute_result"
    },
    {
     "name": "stdout",
     "output_type": "stream",
     "text": [
      "\n"
     ]
    }
   ],
   "source": [
    "pre_and_test=pre_tag.cbind(testData)\n",
    "print pre_and_test[0:4].head()"
   ]
  },
  {
   "cell_type": "code",
   "execution_count": 25,
   "metadata": {},
   "outputs": [
    {
     "name": "stdout",
     "output_type": "stream",
     "text": [
      "16"
     ]
    },
    {
     "name": "stdout",
     "output_type": "stream",
     "text": [
      "\n"
     ]
    },
    {
     "name": "stdout",
     "output_type": "stream",
     "text": [
      "215"
     ]
    },
    {
     "name": "stdout",
     "output_type": "stream",
     "text": [
      "\n"
     ]
    },
    {
     "name": "stdout",
     "output_type": "stream",
     "text": [
      "4"
     ]
    },
    {
     "name": "stdout",
     "output_type": "stream",
     "text": [
      "\n"
     ]
    }
   ],
   "source": [
    "# 计算准确率\n",
    "n = pre_and_test.nrow\n",
    "# 预测的数目\n",
    "pre_n = pre_and_test[(pre_and_test['predict'] > 0.5), :].nrow\n",
    "print pre_n\n",
    "# 实际的数目\n",
    "act_n = pre_and_test[(pre_and_test['tag'] == 1), :].nrow\n",
    "print act_n\n",
    "# 预测和实际一致的\n",
    "target_n = pre_and_test[(pre_and_test['predict'] > 0.5) & (pre_and_test['tag'] == 1), :].nrow\n",
    "# accuracy = float(target_n) / float(n)\n",
    "\n",
    "print target_n\n"
   ]
  },
  {
   "cell_type": "code",
   "execution_count": 15,
   "metadata": {},
   "outputs": [
    {
     "name": "stdout",
     "output_type": "stream",
     "text": [
      "0.0264317180617"
     ]
    },
    {
     "name": "stdout",
     "output_type": "stream",
     "text": [
      "\n"
     ]
    }
   ],
   "source": [
    "target_n = float(target_n)\n",
    "pre_n = float(pre_n)\n",
    "act_n = float(act_n)\n",
    "precision = target_n / pre_n\n",
    "recall = target_n / act_n\n",
    "F1 = 2 * precision * recall / (precision + recall)\n",
    "print F1\n"
   ]
  },
  {
   "cell_type": "code",
   "execution_count": null,
   "metadata": {},
   "outputs": [],
   "source": []
  }
 ],
 "metadata": {
  "kernelspec": {
   "display_name": "Python 2",
   "language": "python",
   "name": "python2"
  },
  "language_info": {
   "codemirror_mode": {
    "name": "ipython",
    "version": 2
   },
   "file_extension": ".py",
   "mimetype": "text/x-python",
   "name": "python",
   "nbconvert_exporter": "python",
   "pygments_lexer": "ipython2",
   "version": "2.7.6"
  }
 },
 "nbformat": 4,
 "nbformat_minor": 0
}
